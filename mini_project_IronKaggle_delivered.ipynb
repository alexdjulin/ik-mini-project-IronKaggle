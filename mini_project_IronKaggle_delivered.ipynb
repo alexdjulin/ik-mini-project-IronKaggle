{
 "cells": [
  {
   "cell_type": "markdown",
   "metadata": {},
   "source": [
    "# Mini Project - IronKaggle - Version Delivered\n",
    "\n",
    "In this notebook, we load and clean the dataset, then explore different ML models to predict future sales."
   ]
  },
  {
   "cell_type": "markdown",
   "metadata": {},
   "source": [
    "## Imports"
   ]
  },
  {
   "cell_type": "code",
   "execution_count": 1,
   "metadata": {},
   "outputs": [],
   "source": [
    "import numpy as np\n",
    "import pandas as pd\n",
    "import seaborn as sns\n",
    "import plotly.express as px\n",
    "import plotly.graph_objects as go\n",
    "import matplotlib.pyplot as plt\n",
    "from scipy import stats\n",
    "%matplotlib inline"
   ]
  },
  {
   "cell_type": "markdown",
   "metadata": {},
   "source": [
    "## Import dataset"
   ]
  },
  {
   "cell_type": "code",
   "execution_count": 2,
   "metadata": {},
   "outputs": [
    {
     "name": "stdout",
     "output_type": "stream",
     "text": [
      "<class 'pandas.core.frame.DataFrame'>\n",
      "RangeIndex: 640840 entries, 0 to 640839\n",
      "Data columns (total 10 columns):\n",
      " #   Column               Non-Null Count   Dtype \n",
      "---  ------               --------------   ----- \n",
      " 0   Unnamed: 0           640840 non-null  int64 \n",
      " 1   store_ID             640840 non-null  int64 \n",
      " 2   day_of_week          640840 non-null  int64 \n",
      " 3   date                 640840 non-null  object\n",
      " 4   nb_customers_on_day  640840 non-null  int64 \n",
      " 5   open                 640840 non-null  int64 \n",
      " 6   promotion            640840 non-null  int64 \n",
      " 7   state_holiday        640840 non-null  object\n",
      " 8   school_holiday       640840 non-null  int64 \n",
      " 9   sales                640840 non-null  int64 \n",
      "dtypes: int64(8), object(2)\n",
      "memory usage: 48.9+ MB\n",
      "None\n"
     ]
    },
    {
     "data": {
      "text/html": [
       "<div>\n",
       "<style scoped>\n",
       "    .dataframe tbody tr th:only-of-type {\n",
       "        vertical-align: middle;\n",
       "    }\n",
       "\n",
       "    .dataframe tbody tr th {\n",
       "        vertical-align: top;\n",
       "    }\n",
       "\n",
       "    .dataframe thead th {\n",
       "        text-align: right;\n",
       "    }\n",
       "</style>\n",
       "<table border=\"1\" class=\"dataframe\">\n",
       "  <thead>\n",
       "    <tr style=\"text-align: right;\">\n",
       "      <th></th>\n",
       "      <th>Unnamed: 0</th>\n",
       "      <th>store_ID</th>\n",
       "      <th>day_of_week</th>\n",
       "      <th>date</th>\n",
       "      <th>nb_customers_on_day</th>\n",
       "      <th>open</th>\n",
       "      <th>promotion</th>\n",
       "      <th>state_holiday</th>\n",
       "      <th>school_holiday</th>\n",
       "      <th>sales</th>\n",
       "    </tr>\n",
       "  </thead>\n",
       "  <tbody>\n",
       "    <tr>\n",
       "      <th>0</th>\n",
       "      <td>425390</td>\n",
       "      <td>366</td>\n",
       "      <td>4</td>\n",
       "      <td>2013-04-18</td>\n",
       "      <td>517</td>\n",
       "      <td>1</td>\n",
       "      <td>0</td>\n",
       "      <td>0</td>\n",
       "      <td>0</td>\n",
       "      <td>4422</td>\n",
       "    </tr>\n",
       "    <tr>\n",
       "      <th>1</th>\n",
       "      <td>291687</td>\n",
       "      <td>394</td>\n",
       "      <td>6</td>\n",
       "      <td>2015-04-11</td>\n",
       "      <td>694</td>\n",
       "      <td>1</td>\n",
       "      <td>0</td>\n",
       "      <td>0</td>\n",
       "      <td>0</td>\n",
       "      <td>8297</td>\n",
       "    </tr>\n",
       "    <tr>\n",
       "      <th>2</th>\n",
       "      <td>411278</td>\n",
       "      <td>807</td>\n",
       "      <td>4</td>\n",
       "      <td>2013-08-29</td>\n",
       "      <td>970</td>\n",
       "      <td>1</td>\n",
       "      <td>1</td>\n",
       "      <td>0</td>\n",
       "      <td>0</td>\n",
       "      <td>9729</td>\n",
       "    </tr>\n",
       "    <tr>\n",
       "      <th>3</th>\n",
       "      <td>664714</td>\n",
       "      <td>802</td>\n",
       "      <td>2</td>\n",
       "      <td>2013-05-28</td>\n",
       "      <td>473</td>\n",
       "      <td>1</td>\n",
       "      <td>1</td>\n",
       "      <td>0</td>\n",
       "      <td>0</td>\n",
       "      <td>6513</td>\n",
       "    </tr>\n",
       "    <tr>\n",
       "      <th>4</th>\n",
       "      <td>540835</td>\n",
       "      <td>726</td>\n",
       "      <td>4</td>\n",
       "      <td>2013-10-10</td>\n",
       "      <td>1068</td>\n",
       "      <td>1</td>\n",
       "      <td>1</td>\n",
       "      <td>0</td>\n",
       "      <td>0</td>\n",
       "      <td>10882</td>\n",
       "    </tr>\n",
       "  </tbody>\n",
       "</table>\n",
       "</div>"
      ],
      "text/plain": [
       "   Unnamed: 0  store_ID  day_of_week        date  nb_customers_on_day  open  \\\n",
       "0      425390       366            4  2013-04-18                  517     1   \n",
       "1      291687       394            6  2015-04-11                  694     1   \n",
       "2      411278       807            4  2013-08-29                  970     1   \n",
       "3      664714       802            2  2013-05-28                  473     1   \n",
       "4      540835       726            4  2013-10-10                 1068     1   \n",
       "\n",
       "   promotion state_holiday  school_holiday  sales  \n",
       "0          0             0               0   4422  \n",
       "1          0             0               0   8297  \n",
       "2          1             0               0   9729  \n",
       "3          1             0               0   6513  \n",
       "4          1             0               0  10882  "
      ]
     },
     "execution_count": 2,
     "metadata": {},
     "output_type": "execute_result"
    }
   ],
   "source": [
    "# load dataset\n",
    "file_path = 'sales.csv'\n",
    "sales_data = pd.read_csv(file_path)\n",
    "print(sales_data.info())\n",
    "sales_data.head()"
   ]
  },
  {
   "cell_type": "markdown",
   "metadata": {},
   "source": [
    "## Data Cleaning"
   ]
  },
  {
   "cell_type": "code",
   "execution_count": 3,
   "metadata": {},
   "outputs": [
    {
     "name": "stdout",
     "output_type": "stream",
     "text": [
      "Unnamed: 0             0\n",
      "store_ID               0\n",
      "day_of_week            0\n",
      "date                   0\n",
      "nb_customers_on_day    0\n",
      "open                   0\n",
      "promotion              0\n",
      "state_holiday          0\n",
      "school_holiday         0\n",
      "sales                  0\n",
      "dtype: int64\n"
     ]
    }
   ],
   "source": [
    "# check for missing value\n",
    "sales_data_cleaned = sales_data.copy()\n",
    "print(sales_data_cleaned.isna().sum())"
   ]
  },
  {
   "cell_type": "code",
   "execution_count": 4,
   "metadata": {},
   "outputs": [
    {
     "name": "stdout",
     "output_type": "stream",
     "text": [
      "<class 'pandas.core.frame.DataFrame'>\n",
      "RangeIndex: 640840 entries, 0 to 640839\n",
      "Data columns (total 11 columns):\n",
      " #   Column               Non-Null Count   Dtype         \n",
      "---  ------               --------------   -----         \n",
      " 0   store_ID             640840 non-null  int64         \n",
      " 1   day_of_week          640840 non-null  int64         \n",
      " 2   date                 640840 non-null  datetime64[ns]\n",
      " 3   nb_customers_on_day  640840 non-null  int64         \n",
      " 4   open                 640840 non-null  int64         \n",
      " 5   promotion            640840 non-null  int64         \n",
      " 6   school_holiday       640840 non-null  int64         \n",
      " 7   sales                640840 non-null  int64         \n",
      " 8   state_holiday_a      640840 non-null  int32         \n",
      " 9   state_holiday_b      640840 non-null  int32         \n",
      " 10  state_holiday_c      640840 non-null  int32         \n",
      "dtypes: datetime64[ns](1), int32(3), int64(7)\n",
      "memory usage: 46.4 MB\n"
     ]
    }
   ],
   "source": [
    "# Convert 'date' column to datetime\n",
    "sales_data_cleaned['date'] = pd.to_datetime(sales_data_cleaned['date'])\n",
    "\n",
    "# One-hot encoding of 'state_holiday' and convert them to int32\n",
    "sales_data_cleaned = pd.get_dummies(sales_data_cleaned, columns=['state_holiday'], drop_first=True)\n",
    "boolean_columns = ['state_holiday_a', 'state_holiday_b', 'state_holiday_c']\n",
    "sales_data_cleaned[boolean_columns] = sales_data_cleaned[boolean_columns].astype(int)\n",
    "\n",
    "# Convert bool columns to int\n",
    "sales_data_cleaned = sales_data_cleaned.astype({col: 'int' for col in sales_data_cleaned.select_dtypes(include='bool').columns})\n",
    "\n",
    "# Drop 'Unnamed: 0' column\n",
    "sales_data_cleaned = sales_data_cleaned.drop(columns=['Unnamed: 0'])\n",
    "\n",
    "sales_data_cleaned.info()"
   ]
  },
  {
   "cell_type": "markdown",
   "metadata": {},
   "source": [
    "## Feature Engineering"
   ]
  },
  {
   "cell_type": "code",
   "execution_count": 5,
   "metadata": {},
   "outputs": [
    {
     "name": "stdout",
     "output_type": "stream",
     "text": [
      "<class 'pandas.core.frame.DataFrame'>\n",
      "RangeIndex: 640840 entries, 0 to 640839\n",
      "Data columns (total 14 columns):\n",
      " #   Column               Non-Null Count   Dtype\n",
      "---  ------               --------------   -----\n",
      " 0   store_ID             640840 non-null  int64\n",
      " 1   day_of_week          640840 non-null  int64\n",
      " 2   nb_customers_on_day  640840 non-null  int64\n",
      " 3   open                 640840 non-null  int64\n",
      " 4   promotion            640840 non-null  int64\n",
      " 5   school_holiday       640840 non-null  int64\n",
      " 6   sales                640840 non-null  int64\n",
      " 7   state_holiday_a      640840 non-null  int32\n",
      " 8   state_holiday_b      640840 non-null  int32\n",
      " 9   state_holiday_c      640840 non-null  int32\n",
      " 10  year                 640840 non-null  int32\n",
      " 11  month                640840 non-null  int32\n",
      " 12  day                  640840 non-null  int32\n",
      " 13  week_of_year         640840 non-null  int32\n",
      "dtypes: int32(7), int64(7)\n",
      "memory usage: 51.3 MB\n"
     ]
    }
   ],
   "source": [
    "# Extract additional features from the 'date' column as int32 and drop date column\n",
    "sales_data_cleaned['year'] = sales_data_cleaned['date'].dt.year.astype('int32')\n",
    "sales_data_cleaned['month'] = sales_data_cleaned['date'].dt.month.astype('int32')\n",
    "sales_data_cleaned['day'] = sales_data_cleaned['date'].dt.day.astype('int32')\n",
    "sales_data_cleaned['week_of_year'] = sales_data_cleaned['date'].dt.isocalendar().week.astype('int32')\n",
    "sales_data_cleaned.drop('date', axis=1, inplace=True)\n",
    "sales_data_cleaned.info()"
   ]
  },
  {
   "cell_type": "markdown",
   "metadata": {},
   "source": [
    "## Check dataset collinearity and balance"
   ]
  },
  {
   "cell_type": "code",
   "execution_count": 6,
   "metadata": {},
   "outputs": [
    {
     "data": {
      "application/vnd.plotly.v1+json": {
       "config": {
        "plotlyServerURL": "https://plot.ly"
       },
       "data": [
        {
         "colorscale": [
          [
           0,
           "#440154"
          ],
          [
           0.1111111111111111,
           "#482878"
          ],
          [
           0.2222222222222222,
           "#3e4989"
          ],
          [
           0.3333333333333333,
           "#31688e"
          ],
          [
           0.4444444444444444,
           "#26828e"
          ],
          [
           0.5555555555555556,
           "#1f9e89"
          ],
          [
           0.6666666666666666,
           "#35b779"
          ],
          [
           0.7777777777777778,
           "#6ece58"
          ],
          [
           0.8888888888888888,
           "#b5de2b"
          ],
          [
           1,
           "#fde725"
          ]
         ],
         "hoverinfo": "z",
         "text": [
          [
           1,
           0.0003291633848729127,
           0.02360454734540519,
           -0.0011075443554721149,
           -0.0003640084859382574,
           -0.0007060981494642325,
           0.004803764652278471,
           0.0010049447409924894,
           0.0000162779094468293,
           -0.0008657323538383395,
           -0.0001753910298722264,
           0.0009511055820128076,
           -0.0007727272947395762,
           0.000656976971929912
          ],
          [
           0.0003291633848729127,
           1,
           -0.3856162925861285,
           -0.5279470009477867,
           -0.39273580007762215,
           -0.20606860112200628,
           -0.46110729052222016,
           -0.041342878924140625,
           -0.040758946862837514,
           -0.0014381068979524233,
           0.0026598129351066424,
           -0.005718669155910324,
           0.004799671651803902,
           -0.005096496586275458
          ],
          [
           0.02360454734540519,
           -0.3856162925861285,
           1,
           0.6172641795676744,
           0.31585806357071855,
           0.0710848883886446,
           0.8948716808393514,
           -0.18214206471475203,
           -0.10349284781246215,
           -0.0835249572867471,
           -0.002611377760975847,
           0.03951630886701869,
           -0.004695467103848997,
           0.042752289660501354
          ],
          [
           -0.0011075443554721149,
           -0.5279470009477867,
           0.6172641795676744,
           1,
           0.29493632935695424,
           0.0852130535798449,
           0.6784632293441165,
           -0.30345912827062177,
           -0.17464431639016656,
           -0.13865056057393307,
           -0.0011398864076269375,
           -0.00010189541911816628,
           0.0333838882647343,
           0.00530121466801599
          ],
          [
           -0.0003640084859382574,
           -0.39273580007762215,
           0.31585806357071855,
           0.29493632935695424,
           1,
           0.06656504974087256,
           0.4518192361189675,
           -0.004240889672345017,
           0.019808888518128155,
           -0.050382052439110155,
           0.024529497291005915,
           -0.01209252791332167,
           -0.10756329194403323,
           0.000370361981134586
          ],
          [
           -0.0007060981494642325,
           -0.20606860112200628,
           0.0710848883886446,
           0.0852130535798449,
           0.06656504974087256,
           1,
           0.08448359483749895,
           0.030275066571483964,
           0.1587222669941493,
           0.13757014756560948,
           -0.037047759797609534,
           0.10281959476540636,
           0.030039548395547348,
           0.07031705738499365
          ],
          [
           0.004803764652278471,
           -0.46110729052222016,
           0.8948716808393514,
           0.6784632293441165,
           0.4518192361189675,
           0.08448359483749895,
           1,
           -0.2040335397132971,
           -0.11670495049644257,
           -0.09321516078149794,
           0.022519803646709545,
           0.049465119024869726,
           -0.01160740035114772,
           0.0537870715387482
          ],
          [
           0.0010049447409924894,
           -0.041342878924140625,
           -0.18214206471475203,
           -0.30345912827062177,
           -0.004240889672345017,
           0.030275066571483964,
           -0.2040335397132971,
           1,
           -0.011634354225815447,
           -0.009169280825518388,
           0.011760092556370753,
           -0.02634181399943276,
           -0.099582366933937,
           -0.031843468045018246
          ],
          [
           0.0000162779094468293,
           -0.040758946862837514,
           -0.10349284781246215,
           -0.17464431639016656,
           0.019808888518128155,
           0.1587222669941493,
           -0.11670495049644257,
           -0.011634354225815447,
           1,
           -0.005216787558486012,
           0.015857855409671818,
           -0.04930535046620738,
           -0.024307208381442853,
           -0.04950243198285822
          ],
          [
           -0.0008657323538383395,
           -0.0014381068979524233,
           -0.0835249572867471,
           -0.13865056057393307,
           -0.050382052439110155,
           0.13757014756560948,
           -0.09321516078149794,
           -0.009169280825518388,
           -0.005216787558486012,
           1,
           -0.030935791903906808,
           0.11862280948931557,
           0.07137963737649455,
           0.12610163356426188
          ],
          [
           -0.0001753910298722264,
           0.0026598129351066424,
           -0.002611377760975847,
           -0.0011398864076269375,
           0.024529497291005915,
           -0.037047759797609534,
           0.022519803646709545,
           0.011760092556370753,
           0.015857855409671818,
           -0.030935791903906808,
           1,
           -0.26906877925669204,
           -0.002091190977614748,
           -0.25633781917238146
          ],
          [
           0.0009511055820128076,
           -0.005718669155910324,
           0.03951630886701869,
           -0.00010189541911816628,
           -0.01209252791332167,
           0.10281959476540636,
           0.049465119024869726,
           -0.02634181399943276,
           -0.04930535046620738,
           0.11862280948931557,
           -0.26906877925669204,
           1,
           0.012480983455052063,
           0.9668679502378844
          ],
          [
           -0.0007727272947395762,
           0.004799671651803902,
           -0.004695467103848997,
           0.0333838882647343,
           -0.10756329194403323,
           0.030039548395547348,
           -0.01160740035114772,
           -0.099582366933937,
           -0.024307208381442853,
           0.07137963737649455,
           -0.002091190977614748,
           0.012480983455052063,
           1,
           0.06957766658602833
          ],
          [
           0.000656976971929912,
           -0.005096496586275458,
           0.042752289660501354,
           0.00530121466801599,
           0.000370361981134586,
           0.07031705738499365,
           0.0537870715387482,
           -0.031843468045018246,
           -0.04950243198285822,
           0.12610163356426188,
           -0.25633781917238146,
           0.9668679502378844,
           0.06957766658602833,
           1
          ]
         ],
         "texttemplate": "%{text:.2f}",
         "type": "heatmap",
         "x": [
          "store_ID",
          "day_of_week",
          "nb_customers_on_day",
          "open",
          "promotion",
          "school_holiday",
          "sales",
          "state_holiday_a",
          "state_holiday_b",
          "state_holiday_c",
          "year",
          "month",
          "day",
          "week_of_year"
         ],
         "y": [
          "store_ID",
          "day_of_week",
          "nb_customers_on_day",
          "open",
          "promotion",
          "school_holiday",
          "sales",
          "state_holiday_a",
          "state_holiday_b",
          "state_holiday_c",
          "year",
          "month",
          "day",
          "week_of_year"
         ],
         "z": [
          [
           null,
           null,
           null,
           null,
           null,
           null,
           null,
           null,
           null,
           null,
           null,
           null,
           null,
           null
          ],
          [
           0.0003291633848729127,
           null,
           null,
           null,
           null,
           null,
           null,
           null,
           null,
           null,
           null,
           null,
           null,
           null
          ],
          [
           0.02360454734540519,
           -0.3856162925861285,
           null,
           null,
           null,
           null,
           null,
           null,
           null,
           null,
           null,
           null,
           null,
           null
          ],
          [
           -0.0011075443554721149,
           -0.5279470009477867,
           0.6172641795676744,
           null,
           null,
           null,
           null,
           null,
           null,
           null,
           null,
           null,
           null,
           null
          ],
          [
           -0.0003640084859382574,
           -0.39273580007762215,
           0.31585806357071855,
           0.29493632935695424,
           null,
           null,
           null,
           null,
           null,
           null,
           null,
           null,
           null,
           null
          ],
          [
           -0.0007060981494642325,
           -0.20606860112200628,
           0.0710848883886446,
           0.0852130535798449,
           0.06656504974087256,
           null,
           null,
           null,
           null,
           null,
           null,
           null,
           null,
           null
          ],
          [
           0.004803764652278471,
           -0.46110729052222016,
           0.8948716808393514,
           0.6784632293441165,
           0.4518192361189675,
           0.08448359483749895,
           null,
           null,
           null,
           null,
           null,
           null,
           null,
           null
          ],
          [
           0.0010049447409924894,
           -0.041342878924140625,
           -0.18214206471475203,
           -0.30345912827062177,
           -0.004240889672345017,
           0.030275066571483964,
           -0.2040335397132971,
           null,
           null,
           null,
           null,
           null,
           null,
           null
          ],
          [
           0.0000162779094468293,
           -0.040758946862837514,
           -0.10349284781246215,
           -0.17464431639016656,
           0.019808888518128155,
           0.1587222669941493,
           -0.11670495049644257,
           -0.011634354225815447,
           null,
           null,
           null,
           null,
           null,
           null
          ],
          [
           -0.0008657323538383395,
           -0.0014381068979524233,
           -0.0835249572867471,
           -0.13865056057393307,
           -0.050382052439110155,
           0.13757014756560948,
           -0.09321516078149794,
           -0.009169280825518388,
           -0.005216787558486012,
           null,
           null,
           null,
           null,
           null
          ],
          [
           -0.0001753910298722264,
           0.0026598129351066424,
           -0.002611377760975847,
           -0.0011398864076269375,
           0.024529497291005915,
           -0.037047759797609534,
           0.022519803646709545,
           0.011760092556370753,
           0.015857855409671818,
           -0.030935791903906808,
           null,
           null,
           null,
           null
          ],
          [
           0.0009511055820128076,
           -0.005718669155910324,
           0.03951630886701869,
           -0.00010189541911816628,
           -0.01209252791332167,
           0.10281959476540636,
           0.049465119024869726,
           -0.02634181399943276,
           -0.04930535046620738,
           0.11862280948931557,
           -0.26906877925669204,
           null,
           null,
           null
          ],
          [
           -0.0007727272947395762,
           0.004799671651803902,
           -0.004695467103848997,
           0.0333838882647343,
           -0.10756329194403323,
           0.030039548395547348,
           -0.01160740035114772,
           -0.099582366933937,
           -0.024307208381442853,
           0.07137963737649455,
           -0.002091190977614748,
           0.012480983455052063,
           null,
           null
          ],
          [
           0.000656976971929912,
           -0.005096496586275458,
           0.042752289660501354,
           0.00530121466801599,
           0.000370361981134586,
           0.07031705738499365,
           0.0537870715387482,
           -0.031843468045018246,
           -0.04950243198285822,
           0.12610163356426188,
           -0.25633781917238146,
           0.9668679502378844,
           0.06957766658602833,
           null
          ]
         ]
        }
       ],
       "layout": {
        "autosize": false,
        "height": 800,
        "template": {
         "data": {
          "bar": [
           {
            "error_x": {
             "color": "#2a3f5f"
            },
            "error_y": {
             "color": "#2a3f5f"
            },
            "marker": {
             "line": {
              "color": "#E5ECF6",
              "width": 0.5
             },
             "pattern": {
              "fillmode": "overlay",
              "size": 10,
              "solidity": 0.2
             }
            },
            "type": "bar"
           }
          ],
          "barpolar": [
           {
            "marker": {
             "line": {
              "color": "#E5ECF6",
              "width": 0.5
             },
             "pattern": {
              "fillmode": "overlay",
              "size": 10,
              "solidity": 0.2
             }
            },
            "type": "barpolar"
           }
          ],
          "carpet": [
           {
            "aaxis": {
             "endlinecolor": "#2a3f5f",
             "gridcolor": "white",
             "linecolor": "white",
             "minorgridcolor": "white",
             "startlinecolor": "#2a3f5f"
            },
            "baxis": {
             "endlinecolor": "#2a3f5f",
             "gridcolor": "white",
             "linecolor": "white",
             "minorgridcolor": "white",
             "startlinecolor": "#2a3f5f"
            },
            "type": "carpet"
           }
          ],
          "choropleth": [
           {
            "colorbar": {
             "outlinewidth": 0,
             "ticks": ""
            },
            "type": "choropleth"
           }
          ],
          "contour": [
           {
            "colorbar": {
             "outlinewidth": 0,
             "ticks": ""
            },
            "colorscale": [
             [
              0,
              "#0d0887"
             ],
             [
              0.1111111111111111,
              "#46039f"
             ],
             [
              0.2222222222222222,
              "#7201a8"
             ],
             [
              0.3333333333333333,
              "#9c179e"
             ],
             [
              0.4444444444444444,
              "#bd3786"
             ],
             [
              0.5555555555555556,
              "#d8576b"
             ],
             [
              0.6666666666666666,
              "#ed7953"
             ],
             [
              0.7777777777777778,
              "#fb9f3a"
             ],
             [
              0.8888888888888888,
              "#fdca26"
             ],
             [
              1,
              "#f0f921"
             ]
            ],
            "type": "contour"
           }
          ],
          "contourcarpet": [
           {
            "colorbar": {
             "outlinewidth": 0,
             "ticks": ""
            },
            "type": "contourcarpet"
           }
          ],
          "heatmap": [
           {
            "colorbar": {
             "outlinewidth": 0,
             "ticks": ""
            },
            "colorscale": [
             [
              0,
              "#0d0887"
             ],
             [
              0.1111111111111111,
              "#46039f"
             ],
             [
              0.2222222222222222,
              "#7201a8"
             ],
             [
              0.3333333333333333,
              "#9c179e"
             ],
             [
              0.4444444444444444,
              "#bd3786"
             ],
             [
              0.5555555555555556,
              "#d8576b"
             ],
             [
              0.6666666666666666,
              "#ed7953"
             ],
             [
              0.7777777777777778,
              "#fb9f3a"
             ],
             [
              0.8888888888888888,
              "#fdca26"
             ],
             [
              1,
              "#f0f921"
             ]
            ],
            "type": "heatmap"
           }
          ],
          "heatmapgl": [
           {
            "colorbar": {
             "outlinewidth": 0,
             "ticks": ""
            },
            "colorscale": [
             [
              0,
              "#0d0887"
             ],
             [
              0.1111111111111111,
              "#46039f"
             ],
             [
              0.2222222222222222,
              "#7201a8"
             ],
             [
              0.3333333333333333,
              "#9c179e"
             ],
             [
              0.4444444444444444,
              "#bd3786"
             ],
             [
              0.5555555555555556,
              "#d8576b"
             ],
             [
              0.6666666666666666,
              "#ed7953"
             ],
             [
              0.7777777777777778,
              "#fb9f3a"
             ],
             [
              0.8888888888888888,
              "#fdca26"
             ],
             [
              1,
              "#f0f921"
             ]
            ],
            "type": "heatmapgl"
           }
          ],
          "histogram": [
           {
            "marker": {
             "pattern": {
              "fillmode": "overlay",
              "size": 10,
              "solidity": 0.2
             }
            },
            "type": "histogram"
           }
          ],
          "histogram2d": [
           {
            "colorbar": {
             "outlinewidth": 0,
             "ticks": ""
            },
            "colorscale": [
             [
              0,
              "#0d0887"
             ],
             [
              0.1111111111111111,
              "#46039f"
             ],
             [
              0.2222222222222222,
              "#7201a8"
             ],
             [
              0.3333333333333333,
              "#9c179e"
             ],
             [
              0.4444444444444444,
              "#bd3786"
             ],
             [
              0.5555555555555556,
              "#d8576b"
             ],
             [
              0.6666666666666666,
              "#ed7953"
             ],
             [
              0.7777777777777778,
              "#fb9f3a"
             ],
             [
              0.8888888888888888,
              "#fdca26"
             ],
             [
              1,
              "#f0f921"
             ]
            ],
            "type": "histogram2d"
           }
          ],
          "histogram2dcontour": [
           {
            "colorbar": {
             "outlinewidth": 0,
             "ticks": ""
            },
            "colorscale": [
             [
              0,
              "#0d0887"
             ],
             [
              0.1111111111111111,
              "#46039f"
             ],
             [
              0.2222222222222222,
              "#7201a8"
             ],
             [
              0.3333333333333333,
              "#9c179e"
             ],
             [
              0.4444444444444444,
              "#bd3786"
             ],
             [
              0.5555555555555556,
              "#d8576b"
             ],
             [
              0.6666666666666666,
              "#ed7953"
             ],
             [
              0.7777777777777778,
              "#fb9f3a"
             ],
             [
              0.8888888888888888,
              "#fdca26"
             ],
             [
              1,
              "#f0f921"
             ]
            ],
            "type": "histogram2dcontour"
           }
          ],
          "mesh3d": [
           {
            "colorbar": {
             "outlinewidth": 0,
             "ticks": ""
            },
            "type": "mesh3d"
           }
          ],
          "parcoords": [
           {
            "line": {
             "colorbar": {
              "outlinewidth": 0,
              "ticks": ""
             }
            },
            "type": "parcoords"
           }
          ],
          "pie": [
           {
            "automargin": true,
            "type": "pie"
           }
          ],
          "scatter": [
           {
            "fillpattern": {
             "fillmode": "overlay",
             "size": 10,
             "solidity": 0.2
            },
            "type": "scatter"
           }
          ],
          "scatter3d": [
           {
            "line": {
             "colorbar": {
              "outlinewidth": 0,
              "ticks": ""
             }
            },
            "marker": {
             "colorbar": {
              "outlinewidth": 0,
              "ticks": ""
             }
            },
            "type": "scatter3d"
           }
          ],
          "scattercarpet": [
           {
            "marker": {
             "colorbar": {
              "outlinewidth": 0,
              "ticks": ""
             }
            },
            "type": "scattercarpet"
           }
          ],
          "scattergeo": [
           {
            "marker": {
             "colorbar": {
              "outlinewidth": 0,
              "ticks": ""
             }
            },
            "type": "scattergeo"
           }
          ],
          "scattergl": [
           {
            "marker": {
             "colorbar": {
              "outlinewidth": 0,
              "ticks": ""
             }
            },
            "type": "scattergl"
           }
          ],
          "scattermapbox": [
           {
            "marker": {
             "colorbar": {
              "outlinewidth": 0,
              "ticks": ""
             }
            },
            "type": "scattermapbox"
           }
          ],
          "scatterpolar": [
           {
            "marker": {
             "colorbar": {
              "outlinewidth": 0,
              "ticks": ""
             }
            },
            "type": "scatterpolar"
           }
          ],
          "scatterpolargl": [
           {
            "marker": {
             "colorbar": {
              "outlinewidth": 0,
              "ticks": ""
             }
            },
            "type": "scatterpolargl"
           }
          ],
          "scatterternary": [
           {
            "marker": {
             "colorbar": {
              "outlinewidth": 0,
              "ticks": ""
             }
            },
            "type": "scatterternary"
           }
          ],
          "surface": [
           {
            "colorbar": {
             "outlinewidth": 0,
             "ticks": ""
            },
            "colorscale": [
             [
              0,
              "#0d0887"
             ],
             [
              0.1111111111111111,
              "#46039f"
             ],
             [
              0.2222222222222222,
              "#7201a8"
             ],
             [
              0.3333333333333333,
              "#9c179e"
             ],
             [
              0.4444444444444444,
              "#bd3786"
             ],
             [
              0.5555555555555556,
              "#d8576b"
             ],
             [
              0.6666666666666666,
              "#ed7953"
             ],
             [
              0.7777777777777778,
              "#fb9f3a"
             ],
             [
              0.8888888888888888,
              "#fdca26"
             ],
             [
              1,
              "#f0f921"
             ]
            ],
            "type": "surface"
           }
          ],
          "table": [
           {
            "cells": {
             "fill": {
              "color": "#EBF0F8"
             },
             "line": {
              "color": "white"
             }
            },
            "header": {
             "fill": {
              "color": "#C8D4E3"
             },
             "line": {
              "color": "white"
             }
            },
            "type": "table"
           }
          ]
         },
         "layout": {
          "annotationdefaults": {
           "arrowcolor": "#2a3f5f",
           "arrowhead": 0,
           "arrowwidth": 1
          },
          "autotypenumbers": "strict",
          "coloraxis": {
           "colorbar": {
            "outlinewidth": 0,
            "ticks": ""
           }
          },
          "colorscale": {
           "diverging": [
            [
             0,
             "#8e0152"
            ],
            [
             0.1,
             "#c51b7d"
            ],
            [
             0.2,
             "#de77ae"
            ],
            [
             0.3,
             "#f1b6da"
            ],
            [
             0.4,
             "#fde0ef"
            ],
            [
             0.5,
             "#f7f7f7"
            ],
            [
             0.6,
             "#e6f5d0"
            ],
            [
             0.7,
             "#b8e186"
            ],
            [
             0.8,
             "#7fbc41"
            ],
            [
             0.9,
             "#4d9221"
            ],
            [
             1,
             "#276419"
            ]
           ],
           "sequential": [
            [
             0,
             "#0d0887"
            ],
            [
             0.1111111111111111,
             "#46039f"
            ],
            [
             0.2222222222222222,
             "#7201a8"
            ],
            [
             0.3333333333333333,
             "#9c179e"
            ],
            [
             0.4444444444444444,
             "#bd3786"
            ],
            [
             0.5555555555555556,
             "#d8576b"
            ],
            [
             0.6666666666666666,
             "#ed7953"
            ],
            [
             0.7777777777777778,
             "#fb9f3a"
            ],
            [
             0.8888888888888888,
             "#fdca26"
            ],
            [
             1,
             "#f0f921"
            ]
           ],
           "sequentialminus": [
            [
             0,
             "#0d0887"
            ],
            [
             0.1111111111111111,
             "#46039f"
            ],
            [
             0.2222222222222222,
             "#7201a8"
            ],
            [
             0.3333333333333333,
             "#9c179e"
            ],
            [
             0.4444444444444444,
             "#bd3786"
            ],
            [
             0.5555555555555556,
             "#d8576b"
            ],
            [
             0.6666666666666666,
             "#ed7953"
            ],
            [
             0.7777777777777778,
             "#fb9f3a"
            ],
            [
             0.8888888888888888,
             "#fdca26"
            ],
            [
             1,
             "#f0f921"
            ]
           ]
          },
          "colorway": [
           "#636efa",
           "#EF553B",
           "#00cc96",
           "#ab63fa",
           "#FFA15A",
           "#19d3f3",
           "#FF6692",
           "#B6E880",
           "#FF97FF",
           "#FECB52"
          ],
          "font": {
           "color": "#2a3f5f"
          },
          "geo": {
           "bgcolor": "white",
           "lakecolor": "white",
           "landcolor": "#E5ECF6",
           "showlakes": true,
           "showland": true,
           "subunitcolor": "white"
          },
          "hoverlabel": {
           "align": "left"
          },
          "hovermode": "closest",
          "mapbox": {
           "style": "light"
          },
          "paper_bgcolor": "white",
          "plot_bgcolor": "#E5ECF6",
          "polar": {
           "angularaxis": {
            "gridcolor": "white",
            "linecolor": "white",
            "ticks": ""
           },
           "bgcolor": "#E5ECF6",
           "radialaxis": {
            "gridcolor": "white",
            "linecolor": "white",
            "ticks": ""
           }
          },
          "scene": {
           "xaxis": {
            "backgroundcolor": "#E5ECF6",
            "gridcolor": "white",
            "gridwidth": 2,
            "linecolor": "white",
            "showbackground": true,
            "ticks": "",
            "zerolinecolor": "white"
           },
           "yaxis": {
            "backgroundcolor": "#E5ECF6",
            "gridcolor": "white",
            "gridwidth": 2,
            "linecolor": "white",
            "showbackground": true,
            "ticks": "",
            "zerolinecolor": "white"
           },
           "zaxis": {
            "backgroundcolor": "#E5ECF6",
            "gridcolor": "white",
            "gridwidth": 2,
            "linecolor": "white",
            "showbackground": true,
            "ticks": "",
            "zerolinecolor": "white"
           }
          },
          "shapedefaults": {
           "line": {
            "color": "#2a3f5f"
           }
          },
          "ternary": {
           "aaxis": {
            "gridcolor": "white",
            "linecolor": "white",
            "ticks": ""
           },
           "baxis": {
            "gridcolor": "white",
            "linecolor": "white",
            "ticks": ""
           },
           "bgcolor": "#E5ECF6",
           "caxis": {
            "gridcolor": "white",
            "linecolor": "white",
            "ticks": ""
           }
          },
          "title": {
           "x": 0.05
          },
          "xaxis": {
           "automargin": true,
           "gridcolor": "white",
           "linecolor": "white",
           "ticks": "",
           "title": {
            "standoff": 15
           },
           "zerolinecolor": "white",
           "zerolinewidth": 2
          },
          "yaxis": {
           "automargin": true,
           "gridcolor": "white",
           "linecolor": "white",
           "ticks": "",
           "title": {
            "standoff": 15
           },
           "zerolinecolor": "white",
           "zerolinewidth": 2
          }
         }
        },
        "title": {
         "text": "Correlation Matrix"
        },
        "width": 800,
        "xaxis": {
         "nticks": 36,
         "tickangle": 90
        },
        "yaxis": {
         "tickmode": "linear"
        }
       }
      }
     },
     "metadata": {},
     "output_type": "display_data"
    }
   ],
   "source": [
    "# Let's check features collinearity\n",
    "\n",
    "# Plot correlation matrix using Plotly\n",
    "def print_correlation_matrix(correlation_matrix):\n",
    "    \"\"\"\n",
    "    Plot correlatoin matrix using Plotly\n",
    "    \"\"\"\n",
    "    mask = np.triu(np.ones_like(correlation_matrix, dtype=bool))\n",
    "    masked_correlation = correlation_matrix.mask(mask)\n",
    "\n",
    "    fig = go.Figure(\n",
    "        data=go.Heatmap(\n",
    "            z=masked_correlation.values,\n",
    "            x=correlation_matrix.columns,\n",
    "            y=correlation_matrix.columns,\n",
    "            colorscale='Viridis',\n",
    "            text=correlation_matrix.values,\n",
    "            texttemplate=\"%{text:.2f}\",\n",
    "            hoverinfo='z'\n",
    "        )\n",
    "    )\n",
    "\n",
    "    # Adding titles and labels\n",
    "    fig.update_layout(\n",
    "        title='Correlation Matrix',\n",
    "        xaxis_nticks=36,\n",
    "        width=800, height=800,\n",
    "        yaxis=dict(tickmode='linear'),\n",
    "        xaxis=dict(tickangle=90),\n",
    "        autosize=False)\n",
    "\n",
    "    # Display the interactive heatmap\n",
    "    fig.show()\n",
    "\n",
    "print_correlation_matrix(sales_data_cleaned.corr())"
   ]
  },
  {
   "cell_type": "code",
   "execution_count": 7,
   "metadata": {},
   "outputs": [
    {
     "data": {
      "image/png": "[encoded data removed]",
      "text/plain": [
       "<Figure size 2000x1200 with 1 Axes>"
      ]
     },
     "metadata": {},
     "output_type": "display_data"
    }
   ],
   "source": [
    "# Let's standardize the data and check boxplots to spot outliers\n",
    "from sklearn.preprocessing import StandardScaler\n",
    "\n",
    "def standardize_and_plot_data(dataset):\n",
    "    \n",
    "    # standardize dataset\n",
    "    scaler = StandardScaler()\n",
    "    dataset_stand = dataset.copy()\n",
    "    numeric_columns = ['store_ID', 'day_of_week', 'nb_customers_on_day', 'promotion', 'year', 'month', 'day', 'sales', 'week_of_year']\n",
    "    dataset_stand[numeric_columns] = scaler.fit_transform(dataset_stand[numeric_columns])\n",
    "    \n",
    "    # plot standardized dataset\n",
    "    dataset_stand.boxplot(figsize=(20, 12))\n",
    "    plt.show()\n",
    "    \n",
    "    return dataset_stand\n",
    "\n",
    "sales_data_stand = standardize_and_plot_data(sales_data_cleaned)\n"
   ]
  },
  {
   "cell_type": "markdown",
   "metadata": {},
   "source": [
    "Overall the dataset is pretty balanced with whiskers of even sizes around the boxes. However, we notice the presence of extreme outliers on these two features:\n",
    "\n",
    "- **nb_customers_on_day**: Significant spread in the data. The presence of many outliers above the whiskers indicates that there are days with a much higher number of customers than usual. This feature has a large variance and potentially high skewness.\n",
    "\n",
    "- **sales**: This feature has a significant number of high-value outliers, which suggests there are many days with exceptional sales values that differ from the majority. The median and IQR show a more typical range of sales, but the large number of outliers needs careful handling (e.g., capping or transformation)."
   ]
  },
  {
   "cell_type": "code",
   "execution_count": 8,
   "metadata": {},
   "outputs": [
    {
     "name": "stdout",
     "output_type": "stream",
     "text": [
      "Removed 10943 outliers.\n"
     ]
    }
   ],
   "source": [
    "# Removing outliers\n",
    "def remove_outliers(dataset, max_score):\n",
    "\n",
    "    # Calculate the Z-score for 'sales' and 'nb_customers_on_day'\n",
    "    sales_z_scores = stats.zscore(dataset['sales'])\n",
    "    customers_z_scores = stats.zscore(dataset['nb_customers_on_day'])\n",
    "\n",
    "    # Step 2: Identify outliers (Z-score > max_score or Z-score < -max_score)\n",
    "    outliers_sales = (abs(sales_z_scores) > max_score)\n",
    "    outliers_customers = (abs(customers_z_scores) > max_score)\n",
    "\n",
    "    # Step 3: Remove the outliers from the dataset (~ bitwise NOT operator) and return it\n",
    "    dataset_no_outliers = dataset[~(outliers_sales | outliers_customers)]\n",
    "\n",
    "    print(f'Removed {dataset.shape[0] - dataset_no_outliers.shape[0]} outliers.')\n",
    "    \n",
    "    return dataset_no_outliers\n",
    "\n",
    "# remove outliers from unstandardized and standardized dataset\n",
    "sales_data_no_outliers = remove_outliers(sales_data_cleaned, max_score=3)"
   ]
  },
  {
   "cell_type": "code",
   "execution_count": 9,
   "metadata": {},
   "outputs": [
    {
     "data": {
      "text/html": [
       "<div>\n",
       "<style scoped>\n",
       "    .dataframe tbody tr th:only-of-type {\n",
       "        vertical-align: middle;\n",
       "    }\n",
       "\n",
       "    .dataframe tbody tr th {\n",
       "        vertical-align: top;\n",
       "    }\n",
       "\n",
       "    .dataframe thead th {\n",
       "        text-align: right;\n",
       "    }\n",
       "</style>\n",
       "<table border=\"1\" class=\"dataframe\">\n",
       "  <thead>\n",
       "    <tr style=\"text-align: right;\">\n",
       "      <th></th>\n",
       "      <th>store_ID</th>\n",
       "      <th>day_of_week</th>\n",
       "      <th>nb_customers_on_day</th>\n",
       "      <th>open</th>\n",
       "      <th>promotion</th>\n",
       "      <th>school_holiday</th>\n",
       "      <th>sales</th>\n",
       "      <th>state_holiday_a</th>\n",
       "      <th>state_holiday_b</th>\n",
       "      <th>state_holiday_c</th>\n",
       "      <th>year</th>\n",
       "      <th>month</th>\n",
       "      <th>day</th>\n",
       "      <th>week_of_year</th>\n",
       "    </tr>\n",
       "  </thead>\n",
       "  <tbody>\n",
       "    <tr>\n",
       "      <th>count</th>\n",
       "      <td>640840.000000</td>\n",
       "      <td>640840.000000</td>\n",
       "      <td>640840.000000</td>\n",
       "      <td>640840.000000</td>\n",
       "      <td>640840.000000</td>\n",
       "      <td>640840.000000</td>\n",
       "      <td>640840.000000</td>\n",
       "      <td>640840.000000</td>\n",
       "      <td>640840.000000</td>\n",
       "      <td>640840.000000</td>\n",
       "      <td>640840.000000</td>\n",
       "      <td>640840.000000</td>\n",
       "      <td>640840.000000</td>\n",
       "      <td>640840.000000</td>\n",
       "    </tr>\n",
       "    <tr>\n",
       "      <th>mean</th>\n",
       "      <td>558.211348</td>\n",
       "      <td>4.000189</td>\n",
       "      <td>633.398577</td>\n",
       "      <td>0.830185</td>\n",
       "      <td>0.381718</td>\n",
       "      <td>0.178472</td>\n",
       "      <td>5777.469011</td>\n",
       "      <td>0.020039</td>\n",
       "      <td>0.006576</td>\n",
       "      <td>0.004095</td>\n",
       "      <td>2013.832351</td>\n",
       "      <td>5.846555</td>\n",
       "      <td>15.711689</td>\n",
       "      <td>23.614139</td>\n",
       "    </tr>\n",
       "    <tr>\n",
       "      <th>std</th>\n",
       "      <td>321.878521</td>\n",
       "      <td>1.996478</td>\n",
       "      <td>464.094416</td>\n",
       "      <td>0.375470</td>\n",
       "      <td>0.485808</td>\n",
       "      <td>0.382910</td>\n",
       "      <td>3851.338083</td>\n",
       "      <td>0.140135</td>\n",
       "      <td>0.080824</td>\n",
       "      <td>0.063858</td>\n",
       "      <td>0.777335</td>\n",
       "      <td>3.326202</td>\n",
       "      <td>8.791182</td>\n",
       "      <td>14.433770</td>\n",
       "    </tr>\n",
       "    <tr>\n",
       "      <th>min</th>\n",
       "      <td>1.000000</td>\n",
       "      <td>1.000000</td>\n",
       "      <td>0.000000</td>\n",
       "      <td>0.000000</td>\n",
       "      <td>0.000000</td>\n",
       "      <td>0.000000</td>\n",
       "      <td>0.000000</td>\n",
       "      <td>0.000000</td>\n",
       "      <td>0.000000</td>\n",
       "      <td>0.000000</td>\n",
       "      <td>2013.000000</td>\n",
       "      <td>1.000000</td>\n",
       "      <td>1.000000</td>\n",
       "      <td>1.000000</td>\n",
       "    </tr>\n",
       "    <tr>\n",
       "      <th>25%</th>\n",
       "      <td>280.000000</td>\n",
       "      <td>2.000000</td>\n",
       "      <td>405.000000</td>\n",
       "      <td>1.000000</td>\n",
       "      <td>0.000000</td>\n",
       "      <td>0.000000</td>\n",
       "      <td>3731.000000</td>\n",
       "      <td>0.000000</td>\n",
       "      <td>0.000000</td>\n",
       "      <td>0.000000</td>\n",
       "      <td>2013.000000</td>\n",
       "      <td>3.000000</td>\n",
       "      <td>8.000000</td>\n",
       "      <td>11.000000</td>\n",
       "    </tr>\n",
       "    <tr>\n",
       "      <th>50%</th>\n",
       "      <td>558.000000</td>\n",
       "      <td>4.000000</td>\n",
       "      <td>609.000000</td>\n",
       "      <td>1.000000</td>\n",
       "      <td>0.000000</td>\n",
       "      <td>0.000000</td>\n",
       "      <td>5746.000000</td>\n",
       "      <td>0.000000</td>\n",
       "      <td>0.000000</td>\n",
       "      <td>0.000000</td>\n",
       "      <td>2014.000000</td>\n",
       "      <td>6.000000</td>\n",
       "      <td>16.000000</td>\n",
       "      <td>22.000000</td>\n",
       "    </tr>\n",
       "    <tr>\n",
       "      <th>75%</th>\n",
       "      <td>837.000000</td>\n",
       "      <td>6.000000</td>\n",
       "      <td>838.000000</td>\n",
       "      <td>1.000000</td>\n",
       "      <td>1.000000</td>\n",
       "      <td>0.000000</td>\n",
       "      <td>7860.000000</td>\n",
       "      <td>0.000000</td>\n",
       "      <td>0.000000</td>\n",
       "      <td>0.000000</td>\n",
       "      <td>2014.000000</td>\n",
       "      <td>8.000000</td>\n",
       "      <td>23.000000</td>\n",
       "      <td>35.000000</td>\n",
       "    </tr>\n",
       "    <tr>\n",
       "      <th>max</th>\n",
       "      <td>1115.000000</td>\n",
       "      <td>7.000000</td>\n",
       "      <td>5458.000000</td>\n",
       "      <td>1.000000</td>\n",
       "      <td>1.000000</td>\n",
       "      <td>1.000000</td>\n",
       "      <td>41551.000000</td>\n",
       "      <td>1.000000</td>\n",
       "      <td>1.000000</td>\n",
       "      <td>1.000000</td>\n",
       "      <td>2015.000000</td>\n",
       "      <td>12.000000</td>\n",
       "      <td>31.000000</td>\n",
       "      <td>52.000000</td>\n",
       "    </tr>\n",
       "  </tbody>\n",
       "</table>\n",
       "</div>"
      ],
      "text/plain": [
       "            store_ID    day_of_week  nb_customers_on_day           open  \\\n",
       "count  640840.000000  640840.000000        640840.000000  640840.000000   \n",
       "mean      558.211348       4.000189           633.398577       0.830185   \n",
       "std       321.878521       1.996478           464.094416       0.375470   \n",
       "min         1.000000       1.000000             0.000000       0.000000   \n",
       "25%       280.000000       2.000000           405.000000       1.000000   \n",
       "50%       558.000000       4.000000           609.000000       1.000000   \n",
       "75%       837.000000       6.000000           838.000000       1.000000   \n",
       "max      1115.000000       7.000000          5458.000000       1.000000   \n",
       "\n",
       "           promotion  school_holiday          sales  state_holiday_a  \\\n",
       "count  640840.000000   640840.000000  640840.000000    640840.000000   \n",
       "mean        0.381718        0.178472    5777.469011         0.020039   \n",
       "std         0.485808        0.382910    3851.338083         0.140135   \n",
       "min         0.000000        0.000000       0.000000         0.000000   \n",
       "25%         0.000000        0.000000    3731.000000         0.000000   \n",
       "50%         0.000000        0.000000    5746.000000         0.000000   \n",
       "75%         1.000000        0.000000    7860.000000         0.000000   \n",
       "max         1.000000        1.000000   41551.000000         1.000000   \n",
       "\n",
       "       state_holiday_b  state_holiday_c           year          month  \\\n",
       "count    640840.000000    640840.000000  640840.000000  640840.000000   \n",
       "mean          0.006576         0.004095    2013.832351       5.846555   \n",
       "std           0.080824         0.063858       0.777335       3.326202   \n",
       "min           0.000000         0.000000    2013.000000       1.000000   \n",
       "25%           0.000000         0.000000    2013.000000       3.000000   \n",
       "50%           0.000000         0.000000    2014.000000       6.000000   \n",
       "75%           0.000000         0.000000    2014.000000       8.000000   \n",
       "max           1.000000         1.000000    2015.000000      12.000000   \n",
       "\n",
       "                 day   week_of_year  \n",
       "count  640840.000000  640840.000000  \n",
       "mean       15.711689      23.614139  \n",
       "std         8.791182      14.433770  \n",
       "min         1.000000       1.000000  \n",
       "25%         8.000000      11.000000  \n",
       "50%        16.000000      22.000000  \n",
       "75%        23.000000      35.000000  \n",
       "max        31.000000      52.000000  "
      ]
     },
     "execution_count": 9,
     "metadata": {},
     "output_type": "execute_result"
    }
   ],
   "source": [
    "# compare max outlier values before and after removing them\n",
    "sales_data_cleaned.describe()"
   ]
  },
  {
   "cell_type": "code",
   "execution_count": 10,
   "metadata": {},
   "outputs": [
    {
     "data": {
      "text/html": [
       "<div>\n",
       "<style scoped>\n",
       "    .dataframe tbody tr th:only-of-type {\n",
       "        vertical-align: middle;\n",
       "    }\n",
       "\n",
       "    .dataframe tbody tr th {\n",
       "        vertical-align: top;\n",
       "    }\n",
       "\n",
       "    .dataframe thead th {\n",
       "        text-align: right;\n",
       "    }\n",
       "</style>\n",
       "<table border=\"1\" class=\"dataframe\">\n",
       "  <thead>\n",
       "    <tr style=\"text-align: right;\">\n",
       "      <th></th>\n",
       "      <th>store_ID</th>\n",
       "      <th>day_of_week</th>\n",
       "      <th>nb_customers_on_day</th>\n",
       "      <th>open</th>\n",
       "      <th>promotion</th>\n",
       "      <th>school_holiday</th>\n",
       "      <th>sales</th>\n",
       "      <th>state_holiday_a</th>\n",
       "      <th>state_holiday_b</th>\n",
       "      <th>state_holiday_c</th>\n",
       "      <th>year</th>\n",
       "      <th>month</th>\n",
       "      <th>day</th>\n",
       "      <th>week_of_year</th>\n",
       "    </tr>\n",
       "  </thead>\n",
       "  <tbody>\n",
       "    <tr>\n",
       "      <th>count</th>\n",
       "      <td>629897.000000</td>\n",
       "      <td>629897.000000</td>\n",
       "      <td>629897.000000</td>\n",
       "      <td>629897.000000</td>\n",
       "      <td>629897.000000</td>\n",
       "      <td>629897.000000</td>\n",
       "      <td>629897.000000</td>\n",
       "      <td>629897.000000</td>\n",
       "      <td>629897.000000</td>\n",
       "      <td>629897.000000</td>\n",
       "      <td>629897.000000</td>\n",
       "      <td>629897.000000</td>\n",
       "      <td>629897.000000</td>\n",
       "      <td>629897.000000</td>\n",
       "    </tr>\n",
       "    <tr>\n",
       "      <th>mean</th>\n",
       "      <td>557.494357</td>\n",
       "      <td>4.011648</td>\n",
       "      <td>601.028432</td>\n",
       "      <td>0.827235</td>\n",
       "      <td>0.378549</td>\n",
       "      <td>0.177953</td>\n",
       "      <td>5576.019032</td>\n",
       "      <td>0.020262</td>\n",
       "      <td>0.006628</td>\n",
       "      <td>0.004142</td>\n",
       "      <td>2013.832593</td>\n",
       "      <td>5.836213</td>\n",
       "      <td>15.716281</td>\n",
       "      <td>23.567947</td>\n",
       "    </tr>\n",
       "    <tr>\n",
       "      <th>std</th>\n",
       "      <td>322.521339</td>\n",
       "      <td>1.995364</td>\n",
       "      <td>387.162991</td>\n",
       "      <td>0.378044</td>\n",
       "      <td>0.485026</td>\n",
       "      <td>0.382473</td>\n",
       "      <td>3517.447639</td>\n",
       "      <td>0.140895</td>\n",
       "      <td>0.081143</td>\n",
       "      <td>0.064225</td>\n",
       "      <td>0.777545</td>\n",
       "      <td>3.322176</td>\n",
       "      <td>8.784784</td>\n",
       "      <td>14.414666</td>\n",
       "    </tr>\n",
       "    <tr>\n",
       "      <th>min</th>\n",
       "      <td>1.000000</td>\n",
       "      <td>1.000000</td>\n",
       "      <td>0.000000</td>\n",
       "      <td>0.000000</td>\n",
       "      <td>0.000000</td>\n",
       "      <td>0.000000</td>\n",
       "      <td>0.000000</td>\n",
       "      <td>0.000000</td>\n",
       "      <td>0.000000</td>\n",
       "      <td>0.000000</td>\n",
       "      <td>2013.000000</td>\n",
       "      <td>1.000000</td>\n",
       "      <td>1.000000</td>\n",
       "      <td>1.000000</td>\n",
       "    </tr>\n",
       "    <tr>\n",
       "      <th>25%</th>\n",
       "      <td>279.000000</td>\n",
       "      <td>2.000000</td>\n",
       "      <td>399.000000</td>\n",
       "      <td>1.000000</td>\n",
       "      <td>0.000000</td>\n",
       "      <td>0.000000</td>\n",
       "      <td>3681.000000</td>\n",
       "      <td>0.000000</td>\n",
       "      <td>0.000000</td>\n",
       "      <td>0.000000</td>\n",
       "      <td>2013.000000</td>\n",
       "      <td>3.000000</td>\n",
       "      <td>8.000000</td>\n",
       "      <td>11.000000</td>\n",
       "    </tr>\n",
       "    <tr>\n",
       "      <th>50%</th>\n",
       "      <td>557.000000</td>\n",
       "      <td>4.000000</td>\n",
       "      <td>603.000000</td>\n",
       "      <td>1.000000</td>\n",
       "      <td>0.000000</td>\n",
       "      <td>0.000000</td>\n",
       "      <td>5685.000000</td>\n",
       "      <td>0.000000</td>\n",
       "      <td>0.000000</td>\n",
       "      <td>0.000000</td>\n",
       "      <td>2014.000000</td>\n",
       "      <td>6.000000</td>\n",
       "      <td>16.000000</td>\n",
       "      <td>22.000000</td>\n",
       "    </tr>\n",
       "    <tr>\n",
       "      <th>75%</th>\n",
       "      <td>838.000000</td>\n",
       "      <td>6.000000</td>\n",
       "      <td>823.000000</td>\n",
       "      <td>1.000000</td>\n",
       "      <td>1.000000</td>\n",
       "      <td>0.000000</td>\n",
       "      <td>7727.000000</td>\n",
       "      <td>0.000000</td>\n",
       "      <td>0.000000</td>\n",
       "      <td>0.000000</td>\n",
       "      <td>2014.000000</td>\n",
       "      <td>8.000000</td>\n",
       "      <td>23.000000</td>\n",
       "      <td>35.000000</td>\n",
       "    </tr>\n",
       "    <tr>\n",
       "      <th>max</th>\n",
       "      <td>1115.000000</td>\n",
       "      <td>7.000000</td>\n",
       "      <td>2025.000000</td>\n",
       "      <td>1.000000</td>\n",
       "      <td>1.000000</td>\n",
       "      <td>1.000000</td>\n",
       "      <td>17331.000000</td>\n",
       "      <td>1.000000</td>\n",
       "      <td>1.000000</td>\n",
       "      <td>1.000000</td>\n",
       "      <td>2015.000000</td>\n",
       "      <td>12.000000</td>\n",
       "      <td>31.000000</td>\n",
       "      <td>52.000000</td>\n",
       "    </tr>\n",
       "  </tbody>\n",
       "</table>\n",
       "</div>"
      ],
      "text/plain": [
       "            store_ID    day_of_week  nb_customers_on_day           open  \\\n",
       "count  629897.000000  629897.000000        629897.000000  629897.000000   \n",
       "mean      557.494357       4.011648           601.028432       0.827235   \n",
       "std       322.521339       1.995364           387.162991       0.378044   \n",
       "min         1.000000       1.000000             0.000000       0.000000   \n",
       "25%       279.000000       2.000000           399.000000       1.000000   \n",
       "50%       557.000000       4.000000           603.000000       1.000000   \n",
       "75%       838.000000       6.000000           823.000000       1.000000   \n",
       "max      1115.000000       7.000000          2025.000000       1.000000   \n",
       "\n",
       "           promotion  school_holiday          sales  state_holiday_a  \\\n",
       "count  629897.000000   629897.000000  629897.000000    629897.000000   \n",
       "mean        0.378549        0.177953    5576.019032         0.020262   \n",
       "std         0.485026        0.382473    3517.447639         0.140895   \n",
       "min         0.000000        0.000000       0.000000         0.000000   \n",
       "25%         0.000000        0.000000    3681.000000         0.000000   \n",
       "50%         0.000000        0.000000    5685.000000         0.000000   \n",
       "75%         1.000000        0.000000    7727.000000         0.000000   \n",
       "max         1.000000        1.000000   17331.000000         1.000000   \n",
       "\n",
       "       state_holiday_b  state_holiday_c           year          month  \\\n",
       "count    629897.000000    629897.000000  629897.000000  629897.000000   \n",
       "mean          0.006628         0.004142    2013.832593       5.836213   \n",
       "std           0.081143         0.064225       0.777545       3.322176   \n",
       "min           0.000000         0.000000    2013.000000       1.000000   \n",
       "25%           0.000000         0.000000    2013.000000       3.000000   \n",
       "50%           0.000000         0.000000    2014.000000       6.000000   \n",
       "75%           0.000000         0.000000    2014.000000       8.000000   \n",
       "max           1.000000         1.000000    2015.000000      12.000000   \n",
       "\n",
       "                 day   week_of_year  \n",
       "count  629897.000000  629897.000000  \n",
       "mean       15.716281      23.567947  \n",
       "std         8.784784      14.414666  \n",
       "min         1.000000       1.000000  \n",
       "25%         8.000000      11.000000  \n",
       "50%        16.000000      22.000000  \n",
       "75%        23.000000      35.000000  \n",
       "max        31.000000      52.000000  "
      ]
     },
     "execution_count": 10,
     "metadata": {},
     "output_type": "execute_result"
    }
   ],
   "source": [
    "sales_data_no_outliers.describe()"
   ]
  },
  {
   "cell_type": "code",
   "execution_count": 11,
   "metadata": {},
   "outputs": [
    {
     "data": {
      "image/png": "[encoded data removed]",
      "text/plain": [
       "<Figure size 2000x1200 with 1 Axes>"
      ]
     },
     "metadata": {},
     "output_type": "display_data"
    }
   ],
   "source": [
    "# let's visualise the new standardized datset\n",
    "sales_data_no_outliers_stand = standardize_and_plot_data(sales_data_no_outliers)"
   ]
  },
  {
   "cell_type": "markdown",
   "metadata": {},
   "source": [
    "The distribution looks much better, with outliers mostly grouped above the top whisker."
   ]
  },
  {
   "cell_type": "markdown",
   "metadata": {},
   "source": [
    "## Prepare Train and Test sets"
   ]
  },
  {
   "cell_type": "code",
   "execution_count": 12,
   "metadata": {},
   "outputs": [
    {
     "data": {
      "text/plain": [
       "((503917, 13), (125980, 13), (503917,), (125980,))"
      ]
     },
     "execution_count": 12,
     "metadata": {},
     "output_type": "execute_result"
    }
   ],
   "source": [
    "from sklearn.model_selection import train_test_split\n",
    "\n",
    "# Step 1: Define features (X) and target (y)\n",
    "X = sales_data_no_outliers.drop(columns=['sales'])\n",
    "y = sales_data_no_outliers['sales']\n",
    "\n",
    "# Step 2: Perform an 80/20 train-test split\n",
    "X_train, X_test, y_train, y_test = train_test_split(X, y, test_size=0.2, random_state=42)\n",
    "\n",
    "# Display the size of the training and testing sets\n",
    "X_train.shape, X_test.shape, y_train.shape, y_test.shape\n"
   ]
  },
  {
   "cell_type": "markdown",
   "metadata": {},
   "source": [
    "## Model 1: Linear Regression\n",
    "Let's train a LinearRegression model with default parameters and calculate the r2 score"
   ]
  },
  {
   "cell_type": "code",
   "execution_count": 13,
   "metadata": {},
   "outputs": [
    {
     "name": "stdout",
     "output_type": "stream",
     "text": [
      "Linear Regression\n",
      "------------------------------\n",
      "mse value: 1673060.7451727511\n",
      "r2 score:  0.8649088693573258\n"
     ]
    }
   ],
   "source": [
    "from sklearn.linear_model import LinearRegression\n",
    "from sklearn.metrics import mean_squared_error, r2_score\n",
    "\n",
    "# Step 1: Initialize the Linear Regression model\n",
    "linear_model = LinearRegression()\n",
    "\n",
    "# Step 2: Train the model on the training data\n",
    "linear_model.fit(X_train, y_train)\n",
    "\n",
    "# Step 3: Make predictions on the test set\n",
    "y_pred = linear_model.predict(X_test)\n",
    "\n",
    "# Step 4: Evaluate the model's performance\n",
    "mse = mean_squared_error(y_test, y_pred)\n",
    "r2 = r2_score(y_test, y_pred)\n",
    "\n",
    "print(f\"Linear Regression\\n{30*'-'}\")\n",
    "print(\"mse value:\", mse)\n",
    "print(\"r2 score: \", r2)\n"
   ]
  },
  {
   "cell_type": "markdown",
   "metadata": {},
   "source": [
    "## Model 2: RandomForestRegressor\n",
    "Let's do the same with a random forest regressor, with default parameters"
   ]
  },
  {
   "cell_type": "code",
   "execution_count": 14,
   "metadata": {},
   "outputs": [
    {
     "name": "stdout",
     "output_type": "stream",
     "text": [
      "Random Forest Regressor\n",
      "------------------------------\n",
      "mse value: 693356.5130266178\n",
      "r2 score:  0.9440149943428645\n"
     ]
    }
   ],
   "source": [
    "from sklearn.ensemble import RandomForestRegressor\n",
    "\n",
    "# Step 1: Initialize the Random Forest model\n",
    "rf_model = RandomForestRegressor()\n",
    "\n",
    "# Step 2: Train the Random Forest model on the training data\n",
    "rf_model.fit(X_train, y_train)\n",
    "\n",
    "# Step 3: Make predictions on the test set\n",
    "y_pred = rf_model.predict(X_test)\n",
    "\n",
    "# Step 4: Evaluate the model's performance\n",
    "mse = mean_squared_error(y_test, y_pred)\n",
    "r2 = r2_score(y_test, y_pred)\n",
    "\n",
    "print(f\"Random Forest Regressor\\n{30*'-'}\")\n",
    "print(\"mse value:\", mse)\n",
    "print(\"r2 score: \", r2)\n"
   ]
  },
  {
   "cell_type": "markdown",
   "metadata": {},
   "source": [
    "## Model 3: XBoost\n",
    "Finally we want to train an XBoost model and compare its prediction results with the others."
   ]
  },
  {
   "cell_type": "code",
   "execution_count": 15,
   "metadata": {},
   "outputs": [
    {
     "name": "stdout",
     "output_type": "stream",
     "text": [
      "XBoost\n",
      "------------------------------\n",
      "mse value: 905800.94150901\n",
      "r2 score:  0.9268611891835308\n"
     ]
    }
   ],
   "source": [
    "from xgboost import XGBRegressor\n",
    "\n",
    "# Step 1: Initialize the XBoost model\n",
    "xgboost = XGBRegressor()\n",
    "\n",
    "# Step 2: Train the XBoost model on the training data\n",
    "xgboost.fit(X_train, y_train)\n",
    "\n",
    "# Step 3: Make predictions on the test set\n",
    "y_pred = xgboost.predict(X_test)\n",
    "\n",
    "# Step 4: Evaluate the model's performance\n",
    "mse = mean_squared_error(y_test, y_pred)\n",
    "r2 = r2_score(y_test, y_pred)\n",
    "\n",
    "print(f\"XBoost\\n{30*'-'}\")\n",
    "print(\"mse value:\", mse)\n",
    "print(\"r2 score: \", r2)\n"
   ]
  },
  {
   "cell_type": "markdown",
   "metadata": {},
   "source": [
    "## Hyperparameters Tuning\n",
    "The RandomTreeRegressor seems to perform best on our dataset. Let's see if we can find the best combination of hyperparemeters to improve our r2 score using RandomizedSearchCV."
   ]
  },
  {
   "cell_type": "code",
   "execution_count": 16,
   "metadata": {},
   "outputs": [
    {
     "name": "stderr",
     "output_type": "stream",
     "text": [
      "c:\\Users\\Nath\\anaconda3\\Lib\\site-packages\\sklearn\\ensemble\\_forest.py:413: FutureWarning:\n",
      "\n",
      "`max_features='auto'` has been deprecated in 1.1 and will be removed in 1.3. To keep the past behaviour, explicitly set `max_features=1.0` or remove this parameter as it is also the default value for RandomForestRegressors and ExtraTreesRegressors.\n",
      "\n"
     ]
    },
    {
     "name": "stdout",
     "output_type": "stream",
     "text": [
      "RandomForestRegressor Optimized\n",
      "--------------------------------------------------\n",
      "Best Parameters:  {'n_estimators': 500, 'min_samples_split': 5, 'min_samples_leaf': 4, 'max_features': 'auto', 'max_depth': None}\n",
      "mse value: 729972.5536589364\n",
      "r2 score:  0.9410584356267808\n"
     ]
    }
   ],
   "source": [
    "from sklearn.model_selection import RandomizedSearchCV\n",
    "\n",
    "# Step 1: Define the parameter grid for RandomizedSearchCV\n",
    "param_grid = {\n",
    "    'n_estimators': [100, 200, 500],\n",
    "    'max_depth': [10, 20, 30, None],\n",
    "    'min_samples_split': [2, 5, 10],\n",
    "    'min_samples_leaf': [1, 2, 4],\n",
    "    'max_features': ['auto', 'sqrt', 'log2']\n",
    "}\n",
    "\n",
    "# Step 2: Set up RandomizedSearchCV\n",
    "random_search = RandomizedSearchCV(estimator=RandomForestRegressor(),\n",
    "                                   param_distributions=param_grid,\n",
    "                                   n_iter=10,  # Number of combinations to try\n",
    "                                   cv=3,       # 3-fold cross-validation\n",
    "                                   random_state=42, n_jobs=-1)\n",
    "\n",
    "# Fit the model\n",
    "random_search.fit(X_train, y_train)  # This step is crucial\n",
    "\n",
    "# Step 3: Retrieve the best hyperparameters and evaluate performance\n",
    "best_rf_model = random_search.best_estimator_\n",
    "y_pred_rf_tuned = best_rf_model.predict(X_test)\n",
    "\n",
    "# Step 4: Calculate MSE and R²\n",
    "mse_rf_tuned = mean_squared_error(y_test, y_pred_rf_tuned)\n",
    "r2_rf_tuned = r2_score(y_test, y_pred_rf_tuned)\n",
    "\n",
    "# Display the best parameters and model performance\n",
    "print(f\"RandomForestRegressor Optimized\\n{50*'-'}\")\n",
    "print(\"Best Parameters: \", random_search.best_params_)\n",
    "print(\"mse value:\", mse_rf_tuned)\n",
    "print(\"r2 score: \", r2_rf_tuned)\n"
   ]
  },
  {
   "cell_type": "markdown",
   "metadata": {},
   "source": [
    "## Delivery\n",
    "Now that we have settled on a model and optimized the hyperparameters, we can predict on the real data and deliver our predicted labels.\n",
    "- **Provided**: REAL_DATA.csv, validation set without the labels (sales column)\n",
    "- **To deliver**: REAL_DATA.csv with added Sales column with our predictions"
   ]
  },
  {
   "cell_type": "code",
   "execution_count": 18,
   "metadata": {},
   "outputs": [
    {
     "name": "stdout",
     "output_type": "stream",
     "text": [
      "<class 'pandas.core.frame.DataFrame'>\n",
      "RangeIndex: 71205 entries, 0 to 71204\n",
      "Data columns (total 13 columns):\n",
      " #   Column               Non-Null Count  Dtype \n",
      "---  ------               --------------  ----- \n",
      " 0   store_ID             71205 non-null  int64 \n",
      " 1   day_of_week          71205 non-null  int64 \n",
      " 2   nb_customers_on_day  71205 non-null  int64 \n",
      " 3   open                 71205 non-null  int64 \n",
      " 4   promotion            71205 non-null  int64 \n",
      " 5   school_holiday       71205 non-null  int64 \n",
      " 6   state_holiday_a      71205 non-null  bool  \n",
      " 7   state_holiday_b      71205 non-null  bool  \n",
      " 8   state_holiday_c      71205 non-null  bool  \n",
      " 9   year                 71205 non-null  int32 \n",
      " 10  month                71205 non-null  int32 \n",
      " 11  day                  71205 non-null  int32 \n",
      " 12  week_of_year         71205 non-null  UInt32\n",
      "dtypes: UInt32(1), bool(3), int32(3), int64(6)\n",
      "memory usage: 4.6 MB\n",
      "None\n",
      "Predictions saved to 'G1.csv'\n"
     ]
    }
   ],
   "source": [
    "# Step 1: Load the real-life dataset \n",
    "real_data = pd.read_csv('REAL_DATA.csv')\n",
    "\n",
    "# Step 2: Preprocess the data \n",
    "X_real = real_data.copy()\n",
    "X_real['date'] = pd.to_datetime(X_real['date'], dayfirst=True)\n",
    "X_real = pd.get_dummies(X_real, columns=['state_holiday'], drop_first=True)\n",
    "X_real['year'] = X_real['date'].dt.year\n",
    "X_real['month'] = X_real['date'].dt.month\n",
    "X_real['day'] = X_real['date'].dt.day\n",
    "X_real['week_of_year'] = X_real['date'].dt.isocalendar().week\n",
    "X_real = X_real.drop(columns=['index', 'date'], axis=1)\n",
    "print(X_real.info())\n",
    "\n",
    "# Step 3: Predict sales using RandomTreeRegressor\n",
    "predicted_sales = rf_model.predict(X_real)\n",
    "\n",
    "# Step 4: Add predictions to the dataset\n",
    "real_data['sales'] = predicted_sales\n",
    "\n",
    "# Step 5: Save the dataset with predictions to a CSV file\n",
    "real_data.to_csv('G1.csv', index=False)\n",
    "print(\"Predictions saved to 'G1.csv'\")"
   ]
  },
  {
   "cell_type": "markdown",
   "metadata": {},
   "source": [
    "## Extra Step: Calculate final score using the real labels\n",
    "After delivering the project, we got access to the real labels. We can therefore calculate our final score ourselves."
   ]
  },
  {
   "cell_type": "code",
   "execution_count": 19,
   "metadata": {},
   "outputs": [
    {
     "name": "stdout",
     "output_type": "stream",
     "text": [
      "Final Scores\n",
      "------------------------------\n",
      "mse value: 1244284.0904165143\n",
      "r2 score:  0.9160837104224522\n"
     ]
    }
   ],
   "source": [
    "real_data = pd.read_csv('G1.csv')\n",
    "y_pred = real_data['sales']\n",
    "\n",
    "real_data_labels = pd.read_csv('REAL_DATA_LABELS.csv')\n",
    "y_true = real_data_labels['sales']\n",
    "\n",
    "# Calculate final MSE and r2 score\n",
    "mse_final = mean_squared_error(y_true, y_pred)\n",
    "r2_final = r2_score(y_true, y_pred)\n",
    "\n",
    "print(f\"Final Scores\\n{30*'-'}\")\n",
    "print(\"mse value:\", mse_final)\n",
    "print(\"r2 score: \", r2_final)"
   ]
  }
 ],
 "metadata": {
  "kernelspec": {
   "display_name": "Python 3",
   "language": "python",
   "name": "python3"
  },
  "language_info": {
   "codemirror_mode": {
    "name": "ipython",
    "version": 3
   },
   "file_extension": ".py",
   "mimetype": "text/x-python",
   "name": "python",
   "nbconvert_exporter": "python",
   "pygments_lexer": "ipython3",
   "version": "3.11.7"
  }
 },
 "nbformat": 4,
 "nbformat_minor": 2
}
