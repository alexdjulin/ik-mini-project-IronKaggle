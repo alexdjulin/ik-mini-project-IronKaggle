{
 "cells": [
  {
   "cell_type": "markdown",
   "metadata": {},
   "source": [
    "# Mini Project - IronKaggle"
   ]
  },
  {
   "cell_type": "markdown",
   "metadata": {},
   "source": [
    "## Imports"
   ]
  },
  {
   "cell_type": "code",
   "execution_count": 15,
   "metadata": {},
   "outputs": [],
   "source": [
    "import numpy as np\n",
    "import pandas as pd\n",
    "import seaborn as sns\n",
    "import plotly.express as px\n",
    "import plotly.graph_objects as go\n",
    "import matplotlib.pyplot as plt\n",
    "%matplotlib inline\n"
   ]
  },
  {
   "cell_type": "markdown",
   "metadata": {},
   "source": [
    "## Explore dataset"
   ]
  },
  {
   "cell_type": "code",
   "execution_count": 16,
   "metadata": {},
   "outputs": [
    {
     "name": "stdout",
     "output_type": "stream",
     "text": [
      "<class 'pandas.core.frame.DataFrame'>\n",
      "RangeIndex: 640840 entries, 0 to 640839\n",
      "Data columns (total 10 columns):\n",
      " #   Column               Non-Null Count   Dtype \n",
      "---  ------               --------------   ----- \n",
      " 0   Unnamed: 0           640840 non-null  int64 \n",
      " 1   store_ID             640840 non-null  int64 \n",
      " 2   day_of_week          640840 non-null  int64 \n",
      " 3   date                 640840 non-null  object\n",
      " 4   nb_customers_on_day  640840 non-null  int64 \n",
      " 5   open                 640840 non-null  int64 \n",
      " 6   promotion            640840 non-null  int64 \n",
      " 7   state_holiday        640840 non-null  object\n",
      " 8   school_holiday       640840 non-null  int64 \n",
      " 9   sales                640840 non-null  int64 \n",
      "dtypes: int64(8), object(2)\n",
      "memory usage: 48.9+ MB\n",
      "None\n"
     ]
    },
    {
     "data": {
      "text/html": [
       "<div>\n",
       "<style scoped>\n",
       "    .dataframe tbody tr th:only-of-type {\n",
       "        vertical-align: middle;\n",
       "    }\n",
       "\n",
       "    .dataframe tbody tr th {\n",
       "        vertical-align: top;\n",
       "    }\n",
       "\n",
       "    .dataframe thead th {\n",
       "        text-align: right;\n",
       "    }\n",
       "</style>\n",
       "<table border=\"1\" class=\"dataframe\">\n",
       "  <thead>\n",
       "    <tr style=\"text-align: right;\">\n",
       "      <th></th>\n",
       "      <th>Unnamed: 0</th>\n",
       "      <th>store_ID</th>\n",
       "      <th>day_of_week</th>\n",
       "      <th>date</th>\n",
       "      <th>nb_customers_on_day</th>\n",
       "      <th>open</th>\n",
       "      <th>promotion</th>\n",
       "      <th>state_holiday</th>\n",
       "      <th>school_holiday</th>\n",
       "      <th>sales</th>\n",
       "    </tr>\n",
       "  </thead>\n",
       "  <tbody>\n",
       "    <tr>\n",
       "      <th>0</th>\n",
       "      <td>425390</td>\n",
       "      <td>366</td>\n",
       "      <td>4</td>\n",
       "      <td>2013-04-18</td>\n",
       "      <td>517</td>\n",
       "      <td>1</td>\n",
       "      <td>0</td>\n",
       "      <td>0</td>\n",
       "      <td>0</td>\n",
       "      <td>4422</td>\n",
       "    </tr>\n",
       "    <tr>\n",
       "      <th>1</th>\n",
       "      <td>291687</td>\n",
       "      <td>394</td>\n",
       "      <td>6</td>\n",
       "      <td>2015-04-11</td>\n",
       "      <td>694</td>\n",
       "      <td>1</td>\n",
       "      <td>0</td>\n",
       "      <td>0</td>\n",
       "      <td>0</td>\n",
       "      <td>8297</td>\n",
       "    </tr>\n",
       "    <tr>\n",
       "      <th>2</th>\n",
       "      <td>411278</td>\n",
       "      <td>807</td>\n",
       "      <td>4</td>\n",
       "      <td>2013-08-29</td>\n",
       "      <td>970</td>\n",
       "      <td>1</td>\n",
       "      <td>1</td>\n",
       "      <td>0</td>\n",
       "      <td>0</td>\n",
       "      <td>9729</td>\n",
       "    </tr>\n",
       "    <tr>\n",
       "      <th>3</th>\n",
       "      <td>664714</td>\n",
       "      <td>802</td>\n",
       "      <td>2</td>\n",
       "      <td>2013-05-28</td>\n",
       "      <td>473</td>\n",
       "      <td>1</td>\n",
       "      <td>1</td>\n",
       "      <td>0</td>\n",
       "      <td>0</td>\n",
       "      <td>6513</td>\n",
       "    </tr>\n",
       "    <tr>\n",
       "      <th>4</th>\n",
       "      <td>540835</td>\n",
       "      <td>726</td>\n",
       "      <td>4</td>\n",
       "      <td>2013-10-10</td>\n",
       "      <td>1068</td>\n",
       "      <td>1</td>\n",
       "      <td>1</td>\n",
       "      <td>0</td>\n",
       "      <td>0</td>\n",
       "      <td>10882</td>\n",
       "    </tr>\n",
       "  </tbody>\n",
       "</table>\n",
       "</div>"
      ],
      "text/plain": [
       "   Unnamed: 0  store_ID  day_of_week        date  nb_customers_on_day  open  \\\n",
       "0      425390       366            4  2013-04-18                  517     1   \n",
       "1      291687       394            6  2015-04-11                  694     1   \n",
       "2      411278       807            4  2013-08-29                  970     1   \n",
       "3      664714       802            2  2013-05-28                  473     1   \n",
       "4      540835       726            4  2013-10-10                 1068     1   \n",
       "\n",
       "   promotion state_holiday  school_holiday  sales  \n",
       "0          0             0               0   4422  \n",
       "1          0             0               0   8297  \n",
       "2          1             0               0   9729  \n",
       "3          1             0               0   6513  \n",
       "4          1             0               0  10882  "
      ]
     },
     "execution_count": 16,
     "metadata": {},
     "output_type": "execute_result"
    }
   ],
   "source": [
    "# load dataset\n",
    "sales = pd.read_csv('sales.csv')\n",
    "print(sales.info())\n",
    "sales.head()"
   ]
  },
  {
   "cell_type": "code",
   "execution_count": 17,
   "metadata": {},
   "outputs": [
    {
     "data": {
      "text/plain": [
       "Unnamed: 0             0\n",
       "store_ID               0\n",
       "day_of_week            0\n",
       "date                   0\n",
       "nb_customers_on_day    0\n",
       "open                   0\n",
       "promotion              0\n",
       "state_holiday          0\n",
       "school_holiday         0\n",
       "sales                  0\n",
       "dtype: int64"
      ]
     },
     "execution_count": 17,
     "metadata": {},
     "output_type": "execute_result"
    }
   ],
   "source": [
    "# check for missing value\n",
    "sales.isna().sum()\n",
    "\n",
    "# no missing value"
   ]
  },
  {
   "cell_type": "code",
   "execution_count": 18,
   "metadata": {},
   "outputs": [
    {
     "name": "stdout",
     "output_type": "stream",
     "text": [
      "['0' 'a' 'c' 'b']\n",
      "[0 1 3 2]\n",
      "<class 'pandas.core.frame.DataFrame'>\n",
      "RangeIndex: 640840 entries, 0 to 640839\n",
      "Data columns (total 10 columns):\n",
      " #   Column               Non-Null Count   Dtype \n",
      "---  ------               --------------   ----- \n",
      " 0   Unnamed: 0           640840 non-null  int64 \n",
      " 1   store_ID             640840 non-null  int64 \n",
      " 2   day_of_week          640840 non-null  int64 \n",
      " 3   date                 640840 non-null  object\n",
      " 4   nb_customers_on_day  640840 non-null  int64 \n",
      " 5   open                 640840 non-null  int64 \n",
      " 6   promotion            640840 non-null  int64 \n",
      " 7   state_holiday        640840 non-null  int64 \n",
      " 8   school_holiday       640840 non-null  int64 \n",
      " 9   sales                640840 non-null  int64 \n",
      "dtypes: int64(9), object(1)\n",
      "memory usage: 48.9+ MB\n",
      "None\n"
     ]
    }
   ],
   "source": [
    "# We have two categorical data: date and state_holiday\n",
    "print(sales.state_holiday.unique())\n",
    "\n",
    "# let's convert state holiday to integer values\n",
    "sales['state_holiday'] = sales['state_holiday'].map({'0': 0, 'a': 1, 'b': 2, 'c': 3})\n",
    "sales['state_holiday'] = pd.to_numeric(sales['state_holiday'], errors='coerce')\n",
    "print(sales.state_holiday.unique())\n",
    "print(sales.info())"
   ]
  },
  {
   "cell_type": "code",
   "execution_count": 19,
   "metadata": {},
   "outputs": [],
   "source": [
    "# sales['day_of_week'].unique()"
   ]
  },
  {
   "cell_type": "code",
   "execution_count": 20,
   "metadata": {},
   "outputs": [],
   "source": [
    "# One hot encoding the day of the week so models can handle categorical features well when represented as binary (one-hot encoded) variables\n",
    "# sales = pd.get_dummies(sales, columns=['day_of_week'], drop_first=False)\n"
   ]
  },
  {
   "cell_type": "code",
   "execution_count": 21,
   "metadata": {},
   "outputs": [
    {
     "name": "stdout",
     "output_type": "stream",
     "text": [
      "<class 'pandas.core.frame.DataFrame'>\n",
      "RangeIndex: 640840 entries, 0 to 640839\n",
      "Data columns (total 10 columns):\n",
      " #   Column               Non-Null Count   Dtype \n",
      "---  ------               --------------   ----- \n",
      " 0   Unnamed: 0           640840 non-null  int64 \n",
      " 1   store_ID             640840 non-null  int64 \n",
      " 2   day_of_week          640840 non-null  int64 \n",
      " 3   date                 640840 non-null  object\n",
      " 4   nb_customers_on_day  640840 non-null  int64 \n",
      " 5   open                 640840 non-null  int64 \n",
      " 6   promotion            640840 non-null  int64 \n",
      " 7   state_holiday        640840 non-null  int64 \n",
      " 8   school_holiday       640840 non-null  int64 \n",
      " 9   sales                640840 non-null  int64 \n",
      "dtypes: int64(9), object(1)\n",
      "memory usage: 48.9+ MB\n",
      "None\n"
     ]
    },
    {
     "data": {
      "text/html": [
       "<div>\n",
       "<style scoped>\n",
       "    .dataframe tbody tr th:only-of-type {\n",
       "        vertical-align: middle;\n",
       "    }\n",
       "\n",
       "    .dataframe tbody tr th {\n",
       "        vertical-align: top;\n",
       "    }\n",
       "\n",
       "    .dataframe thead th {\n",
       "        text-align: right;\n",
       "    }\n",
       "</style>\n",
       "<table border=\"1\" class=\"dataframe\">\n",
       "  <thead>\n",
       "    <tr style=\"text-align: right;\">\n",
       "      <th></th>\n",
       "      <th>Unnamed: 0</th>\n",
       "      <th>store_ID</th>\n",
       "      <th>day_of_week</th>\n",
       "      <th>date</th>\n",
       "      <th>nb_customers_on_day</th>\n",
       "      <th>open</th>\n",
       "      <th>promotion</th>\n",
       "      <th>state_holiday</th>\n",
       "      <th>school_holiday</th>\n",
       "      <th>sales</th>\n",
       "    </tr>\n",
       "  </thead>\n",
       "  <tbody>\n",
       "    <tr>\n",
       "      <th>0</th>\n",
       "      <td>425390</td>\n",
       "      <td>366</td>\n",
       "      <td>4</td>\n",
       "      <td>2013-04-18</td>\n",
       "      <td>517</td>\n",
       "      <td>1</td>\n",
       "      <td>0</td>\n",
       "      <td>0</td>\n",
       "      <td>0</td>\n",
       "      <td>4422</td>\n",
       "    </tr>\n",
       "    <tr>\n",
       "      <th>1</th>\n",
       "      <td>291687</td>\n",
       "      <td>394</td>\n",
       "      <td>6</td>\n",
       "      <td>2015-04-11</td>\n",
       "      <td>694</td>\n",
       "      <td>1</td>\n",
       "      <td>0</td>\n",
       "      <td>0</td>\n",
       "      <td>0</td>\n",
       "      <td>8297</td>\n",
       "    </tr>\n",
       "    <tr>\n",
       "      <th>2</th>\n",
       "      <td>411278</td>\n",
       "      <td>807</td>\n",
       "      <td>4</td>\n",
       "      <td>2013-08-29</td>\n",
       "      <td>970</td>\n",
       "      <td>1</td>\n",
       "      <td>1</td>\n",
       "      <td>0</td>\n",
       "      <td>0</td>\n",
       "      <td>9729</td>\n",
       "    </tr>\n",
       "    <tr>\n",
       "      <th>3</th>\n",
       "      <td>664714</td>\n",
       "      <td>802</td>\n",
       "      <td>2</td>\n",
       "      <td>2013-05-28</td>\n",
       "      <td>473</td>\n",
       "      <td>1</td>\n",
       "      <td>1</td>\n",
       "      <td>0</td>\n",
       "      <td>0</td>\n",
       "      <td>6513</td>\n",
       "    </tr>\n",
       "    <tr>\n",
       "      <th>4</th>\n",
       "      <td>540835</td>\n",
       "      <td>726</td>\n",
       "      <td>4</td>\n",
       "      <td>2013-10-10</td>\n",
       "      <td>1068</td>\n",
       "      <td>1</td>\n",
       "      <td>1</td>\n",
       "      <td>0</td>\n",
       "      <td>0</td>\n",
       "      <td>10882</td>\n",
       "    </tr>\n",
       "  </tbody>\n",
       "</table>\n",
       "</div>"
      ],
      "text/plain": [
       "   Unnamed: 0  store_ID  day_of_week        date  nb_customers_on_day  open  \\\n",
       "0      425390       366            4  2013-04-18                  517     1   \n",
       "1      291687       394            6  2015-04-11                  694     1   \n",
       "2      411278       807            4  2013-08-29                  970     1   \n",
       "3      664714       802            2  2013-05-28                  473     1   \n",
       "4      540835       726            4  2013-10-10                 1068     1   \n",
       "\n",
       "   promotion  state_holiday  school_holiday  sales  \n",
       "0          0              0               0   4422  \n",
       "1          0              0               0   8297  \n",
       "2          1              0               0   9729  \n",
       "3          1              0               0   6513  \n",
       "4          1              0               0  10882  "
      ]
     },
     "execution_count": 21,
     "metadata": {},
     "output_type": "execute_result"
    }
   ],
   "source": [
    "print(sales.info())\n",
    "sales.head()"
   ]
  },
  {
   "cell_type": "code",
   "execution_count": 22,
   "metadata": {},
   "outputs": [
    {
     "name": "stdout",
     "output_type": "stream",
     "text": [
      "<class 'pandas.core.frame.DataFrame'>\n",
      "RangeIndex: 640840 entries, 0 to 640839\n",
      "Data columns (total 12 columns):\n",
      " #   Column               Non-Null Count   Dtype\n",
      "---  ------               --------------   -----\n",
      " 0   Unnamed: 0           640840 non-null  int64\n",
      " 1   store_ID             640840 non-null  int64\n",
      " 2   day_of_week          640840 non-null  int64\n",
      " 3   nb_customers_on_day  640840 non-null  int64\n",
      " 4   open                 640840 non-null  int64\n",
      " 5   promotion            640840 non-null  int64\n",
      " 6   state_holiday        640840 non-null  int64\n",
      " 7   school_holiday       640840 non-null  int64\n",
      " 8   sales                640840 non-null  int64\n",
      " 9   year                 640840 non-null  int32\n",
      " 10  month                640840 non-null  int32\n",
      " 11  day                  640840 non-null  int32\n",
      "dtypes: int32(3), int64(9)\n",
      "memory usage: 51.3 MB\n"
     ]
    }
   ],
   "source": [
    "# Now lets split dates into three columns\n",
    "sales['date'] = pd.to_datetime(sales['date'], errors='coerce')\n",
    "sales['year'] = sales['date'].dt.year\n",
    "sales['month'] = sales['date'].dt.month\n",
    "sales['day'] = sales['date'].dt.day\n",
    "sales.drop('date', axis=1, inplace=True)\n",
    "sales.info()"
   ]
  },
  {
   "cell_type": "code",
   "execution_count": 23,
   "metadata": {},
   "outputs": [],
   "source": [
    "# Let's drop the unnamed column and the store id\n",
    "sales.drop(columns=['Unnamed: 0', 'store_ID'], inplace=True)"
   ]
  },
  {
   "cell_type": "code",
   "execution_count": 24,
   "metadata": {},
   "outputs": [
    {
     "data": {
      "image/png": "[encoded data removed]",
      "text/plain": [
       "<Figure size 1600x1200 with 2 Axes>"
      ]
     },
     "metadata": {},
     "output_type": "display_data"
    }
   ],
   "source": [
    "# Let's check the collinearity\n",
    "def plot_correlation_matrix(data):\n",
    "    corr_matrix = data.corr()\n",
    "\n",
    "    plt.figure(figsize=(16, 12))\n",
    "    sns.heatmap(corr_matrix, annot=True, cmap='coolwarm')\n",
    "    plt.show()\n",
    "\n",
    "plot_correlation_matrix(sales)"
   ]
  },
  {
   "cell_type": "code",
   "execution_count": 25,
   "metadata": {},
   "outputs": [
    {
     "name": "stdout",
     "output_type": "stream",
     "text": [
      "<class 'pandas.core.frame.DataFrame'>\n",
      "RangeIndex: 640840 entries, 0 to 640839\n",
      "Data columns (total 9 columns):\n",
      " #   Column               Non-Null Count   Dtype\n",
      "---  ------               --------------   -----\n",
      " 0   day_of_week          640840 non-null  int64\n",
      " 1   nb_customers_on_day  640840 non-null  int64\n",
      " 2   open                 640840 non-null  int64\n",
      " 3   promotion            640840 non-null  int64\n",
      " 4   state_holiday        640840 non-null  int64\n",
      " 5   school_holiday       640840 non-null  int64\n",
      " 6   year                 640840 non-null  int32\n",
      " 7   month                640840 non-null  int32\n",
      " 8   day                  640840 non-null  int32\n",
      "dtypes: int32(3), int64(6)\n",
      "memory usage: 36.7 MB\n",
      "None\n",
      "\n",
      "<class 'pandas.core.series.Series'>\n",
      "RangeIndex: 640840 entries, 0 to 640839\n",
      "Series name: sales\n",
      "Non-Null Count   Dtype\n",
      "--------------   -----\n",
      "640840 non-null  int64\n",
      "dtypes: int64(1)\n",
      "memory usage: 4.9 MB\n",
      "None\n"
     ]
    }
   ],
   "source": [
    "# Lets save our target and remove it from features\n",
    "y = sales['sales']\n",
    "X = sales.drop('sales', axis=1)\n",
    "\n",
    "print(X.info())\n",
    "print()\n",
    "print(y.info())"
   ]
  },
  {
   "cell_type": "code",
   "execution_count": 28,
   "metadata": {},
   "outputs": [
    {
     "data": {
      "text/html": [
       "<div>\n",
       "<style scoped>\n",
       "    .dataframe tbody tr th:only-of-type {\n",
       "        vertical-align: middle;\n",
       "    }\n",
       "\n",
       "    .dataframe tbody tr th {\n",
       "        vertical-align: top;\n",
       "    }\n",
       "\n",
       "    .dataframe thead th {\n",
       "        text-align: right;\n",
       "    }\n",
       "</style>\n",
       "<table border=\"1\" class=\"dataframe\">\n",
       "  <thead>\n",
       "    <tr style=\"text-align: right;\">\n",
       "      <th></th>\n",
       "      <th>day_of_week</th>\n",
       "      <th>nb_customers_on_day</th>\n",
       "      <th>open</th>\n",
       "      <th>promotion</th>\n",
       "      <th>state_holiday</th>\n",
       "      <th>school_holiday</th>\n",
       "      <th>sales</th>\n",
       "      <th>year</th>\n",
       "      <th>month</th>\n",
       "      <th>day</th>\n",
       "    </tr>\n",
       "  </thead>\n",
       "  <tbody>\n",
       "    <tr>\n",
       "      <th>count</th>\n",
       "      <td>640840.000000</td>\n",
       "      <td>6.408400e+05</td>\n",
       "      <td>640840.000000</td>\n",
       "      <td>6.408400e+05</td>\n",
       "      <td>640840.000000</td>\n",
       "      <td>640840.000000</td>\n",
       "      <td>6.408400e+05</td>\n",
       "      <td>6.408400e+05</td>\n",
       "      <td>6.408400e+05</td>\n",
       "      <td>6.408400e+05</td>\n",
       "    </tr>\n",
       "    <tr>\n",
       "      <th>mean</th>\n",
       "      <td>4.000189</td>\n",
       "      <td>1.242929e-17</td>\n",
       "      <td>0.830185</td>\n",
       "      <td>-5.328738e-17</td>\n",
       "      <td>0.045475</td>\n",
       "      <td>0.178472</td>\n",
       "      <td>1.332517e-16</td>\n",
       "      <td>-2.691539e-14</td>\n",
       "      <td>2.529099e-17</td>\n",
       "      <td>3.543622e-17</td>\n",
       "    </tr>\n",
       "    <tr>\n",
       "      <th>std</th>\n",
       "      <td>1.996478</td>\n",
       "      <td>1.000001e+00</td>\n",
       "      <td>0.375470</td>\n",
       "      <td>1.000001e+00</td>\n",
       "      <td>0.284826</td>\n",
       "      <td>0.382910</td>\n",
       "      <td>1.000001e+00</td>\n",
       "      <td>1.000001e+00</td>\n",
       "      <td>1.000001e+00</td>\n",
       "      <td>1.000001e+00</td>\n",
       "    </tr>\n",
       "    <tr>\n",
       "      <th>min</th>\n",
       "      <td>1.000000</td>\n",
       "      <td>-1.364806e+00</td>\n",
       "      <td>0.000000</td>\n",
       "      <td>-7.857380e-01</td>\n",
       "      <td>0.000000</td>\n",
       "      <td>0.000000</td>\n",
       "      <td>-1.500121e+00</td>\n",
       "      <td>-1.070777e+00</td>\n",
       "      <td>-1.457085e+00</td>\n",
       "      <td>-1.673461e+00</td>\n",
       "    </tr>\n",
       "    <tr>\n",
       "      <th>25%</th>\n",
       "      <td>2.000000</td>\n",
       "      <td>-4.921386e-01</td>\n",
       "      <td>1.000000</td>\n",
       "      <td>-7.857380e-01</td>\n",
       "      <td>0.000000</td>\n",
       "      <td>0.000000</td>\n",
       "      <td>-5.313661e-01</td>\n",
       "      <td>-1.070777e+00</td>\n",
       "      <td>-8.557980e-01</td>\n",
       "      <td>-8.772080e-01</td>\n",
       "    </tr>\n",
       "    <tr>\n",
       "      <th>50%</th>\n",
       "      <td>4.000000</td>\n",
       "      <td>-5.257248e-02</td>\n",
       "      <td>1.000000</td>\n",
       "      <td>-7.857380e-01</td>\n",
       "      <td>0.000000</td>\n",
       "      <td>0.000000</td>\n",
       "      <td>-8.170936e-03</td>\n",
       "      <td>2.156714e-01</td>\n",
       "      <td>4.613238e-02</td>\n",
       "      <td>3.279546e-02</td>\n",
       "    </tr>\n",
       "    <tr>\n",
       "      <th>75%</th>\n",
       "      <td>6.000000</td>\n",
       "      <td>4.408620e-01</td>\n",
       "      <td>1.000000</td>\n",
       "      <td>1.272689e+00</td>\n",
       "      <td>0.000000</td>\n",
       "      <td>0.000000</td>\n",
       "      <td>5.407296e-01</td>\n",
       "      <td>2.156714e-01</td>\n",
       "      <td>6.474193e-01</td>\n",
       "      <td>8.290485e-01</td>\n",
       "    </tr>\n",
       "    <tr>\n",
       "      <th>max</th>\n",
       "      <td>7.000000</td>\n",
       "      <td>1.039574e+01</td>\n",
       "      <td>1.000000</td>\n",
       "      <td>1.272689e+00</td>\n",
       "      <td>3.000000</td>\n",
       "      <td>1.000000</td>\n",
       "      <td>9.288605e+00</td>\n",
       "      <td>1.502119e+00</td>\n",
       "      <td>1.849993e+00</td>\n",
       "      <td>1.739052e+00</td>\n",
       "    </tr>\n",
       "  </tbody>\n",
       "</table>\n",
       "</div>"
      ],
      "text/plain": [
       "         day_of_week  nb_customers_on_day           open     promotion  \\\n",
       "count  640840.000000         6.408400e+05  640840.000000  6.408400e+05   \n",
       "mean        4.000189         1.242929e-17       0.830185 -5.328738e-17   \n",
       "std         1.996478         1.000001e+00       0.375470  1.000001e+00   \n",
       "min         1.000000        -1.364806e+00       0.000000 -7.857380e-01   \n",
       "25%         2.000000        -4.921386e-01       1.000000 -7.857380e-01   \n",
       "50%         4.000000        -5.257248e-02       1.000000 -7.857380e-01   \n",
       "75%         6.000000         4.408620e-01       1.000000  1.272689e+00   \n",
       "max         7.000000         1.039574e+01       1.000000  1.272689e+00   \n",
       "\n",
       "       state_holiday  school_holiday         sales          year  \\\n",
       "count  640840.000000   640840.000000  6.408400e+05  6.408400e+05   \n",
       "mean        0.045475        0.178472  1.332517e-16 -2.691539e-14   \n",
       "std         0.284826        0.382910  1.000001e+00  1.000001e+00   \n",
       "min         0.000000        0.000000 -1.500121e+00 -1.070777e+00   \n",
       "25%         0.000000        0.000000 -5.313661e-01 -1.070777e+00   \n",
       "50%         0.000000        0.000000 -8.170936e-03  2.156714e-01   \n",
       "75%         0.000000        0.000000  5.407296e-01  2.156714e-01   \n",
       "max         3.000000        1.000000  9.288605e+00  1.502119e+00   \n",
       "\n",
       "              month           day  \n",
       "count  6.408400e+05  6.408400e+05  \n",
       "mean   2.529099e-17  3.543622e-17  \n",
       "std    1.000001e+00  1.000001e+00  \n",
       "min   -1.457085e+00 -1.673461e+00  \n",
       "25%   -8.557980e-01 -8.772080e-01  \n",
       "50%    4.613238e-02  3.279546e-02  \n",
       "75%    6.474193e-01  8.290485e-01  \n",
       "max    1.849993e+00  1.739052e+00  "
      ]
     },
     "execution_count": 28,
     "metadata": {},
     "output_type": "execute_result"
    }
   ],
   "source": [
    "# Let's standardize the data\n",
    "from sklearn.preprocessing import StandardScaler\n",
    "\n",
    "scaler = StandardScaler()\n",
    "\n",
    "def apply_standard_scaler(df):\n",
    "    \n",
    "    numeric_columns = ['nb_customers_on_day', 'promotion', 'year', 'month', 'day', 'sales']\n",
    "    df_stand = df.copy()\n",
    "    df_stand[numeric_columns] = scaler.fit_transform(df[numeric_columns])\n",
    "    return df_stand\n",
    "\n",
    "X_stand = apply_standard_scaler(sales)\n",
    "X_stand.describe()\n"
   ]
  },
  {
   "cell_type": "code",
   "execution_count": 29,
   "metadata": {},
   "outputs": [
    {
     "data": {
      "image/png": "[encoded data removed]",
      "text/plain": [
       "<Figure size 1600x1200 with 1 Axes>"
      ]
     },
     "metadata": {},
     "output_type": "display_data"
    }
   ],
   "source": [
    "def plot_boxplot(data):\n",
    "    data.boxplot(figsize=(16, 12))\n",
    "    plt.show()\n",
    "\n",
    "plot_boxplot(X_stand)\n"
   ]
  },
  {
   "cell_type": "markdown",
   "metadata": {},
   "source": [
    "## Split Dataset"
   ]
  },
  {
   "cell_type": "code",
   "execution_count": 344,
   "metadata": {},
   "outputs": [
    {
     "name": "stdout",
     "output_type": "stream",
     "text": [
      "(512672, 15) (128168, 15)\n",
      "(512672,) (128168,)\n"
     ]
    }
   ],
   "source": [
    "# lets split the dataset and create our sets\n",
    "from sklearn.model_selection import train_test_split\n",
    "\n",
    "X_train, X_test, y_train, y_test = train_test_split(X_stand, y, test_size=0.2, random_state=42)\n",
    "print(X_train.shape, X_test.shape)\n",
    "print(y_train.shape, y_test.shape)"
   ]
  },
  {
   "cell_type": "markdown",
   "metadata": {},
   "source": [
    "## Model 1: Linear Regression"
   ]
  },
  {
   "cell_type": "code",
   "execution_count": 345,
   "metadata": {},
   "outputs": [
    {
     "data": {
      "text/html": [
       "<style>#sk-container-id-7 {color: black;background-color: white;}#sk-container-id-7 pre{padding: 0;}#sk-container-id-7 div.sk-toggleable {background-color: white;}#sk-container-id-7 label.sk-toggleable__label {cursor: pointer;display: block;width: 100%;margin-bottom: 0;padding: 0.3em;box-sizing: border-box;text-align: center;}#sk-container-id-7 label.sk-toggleable__label-arrow:before {content: \"▸\";float: left;margin-right: 0.25em;color: #696969;}#sk-container-id-7 label.sk-toggleable__label-arrow:hover:before {color: black;}#sk-container-id-7 div.sk-estimator:hover label.sk-toggleable__label-arrow:before {color: black;}#sk-container-id-7 div.sk-toggleable__content {max-height: 0;max-width: 0;overflow: hidden;text-align: left;background-color: #f0f8ff;}#sk-container-id-7 div.sk-toggleable__content pre {margin: 0.2em;color: black;border-radius: 0.25em;background-color: #f0f8ff;}#sk-container-id-7 input.sk-toggleable__control:checked~div.sk-toggleable__content {max-height: 200px;max-width: 100%;overflow: auto;}#sk-container-id-7 input.sk-toggleable__control:checked~label.sk-toggleable__label-arrow:before {content: \"▾\";}#sk-container-id-7 div.sk-estimator input.sk-toggleable__control:checked~label.sk-toggleable__label {background-color: #d4ebff;}#sk-container-id-7 div.sk-label input.sk-toggleable__control:checked~label.sk-toggleable__label {background-color: #d4ebff;}#sk-container-id-7 input.sk-hidden--visually {border: 0;clip: rect(1px 1px 1px 1px);clip: rect(1px, 1px, 1px, 1px);height: 1px;margin: -1px;overflow: hidden;padding: 0;position: absolute;width: 1px;}#sk-container-id-7 div.sk-estimator {font-family: monospace;background-color: #f0f8ff;border: 1px dotted black;border-radius: 0.25em;box-sizing: border-box;margin-bottom: 0.5em;}#sk-container-id-7 div.sk-estimator:hover {background-color: #d4ebff;}#sk-container-id-7 div.sk-parallel-item::after {content: \"\";width: 100%;border-bottom: 1px solid gray;flex-grow: 1;}#sk-container-id-7 div.sk-label:hover label.sk-toggleable__label {background-color: #d4ebff;}#sk-container-id-7 div.sk-serial::before {content: \"\";position: absolute;border-left: 1px solid gray;box-sizing: border-box;top: 0;bottom: 0;left: 50%;z-index: 0;}#sk-container-id-7 div.sk-serial {display: flex;flex-direction: column;align-items: center;background-color: white;padding-right: 0.2em;padding-left: 0.2em;position: relative;}#sk-container-id-7 div.sk-item {position: relative;z-index: 1;}#sk-container-id-7 div.sk-parallel {display: flex;align-items: stretch;justify-content: center;background-color: white;position: relative;}#sk-container-id-7 div.sk-item::before, #sk-container-id-7 div.sk-parallel-item::before {content: \"\";position: absolute;border-left: 1px solid gray;box-sizing: border-box;top: 0;bottom: 0;left: 50%;z-index: -1;}#sk-container-id-7 div.sk-parallel-item {display: flex;flex-direction: column;z-index: 1;position: relative;background-color: white;}#sk-container-id-7 div.sk-parallel-item:first-child::after {align-self: flex-end;width: 50%;}#sk-container-id-7 div.sk-parallel-item:last-child::after {align-self: flex-start;width: 50%;}#sk-container-id-7 div.sk-parallel-item:only-child::after {width: 0;}#sk-container-id-7 div.sk-dashed-wrapped {border: 1px dashed gray;margin: 0 0.4em 0.5em 0.4em;box-sizing: border-box;padding-bottom: 0.4em;background-color: white;}#sk-container-id-7 div.sk-label label {font-family: monospace;font-weight: bold;display: inline-block;line-height: 1.2em;}#sk-container-id-7 div.sk-label-container {text-align: center;}#sk-container-id-7 div.sk-container {/* jupyter's `normalize.less` sets `[hidden] { display: none; }` but bootstrap.min.css set `[hidden] { display: none !important; }` so we also need the `!important` here to be able to override the default hidden behavior on the sphinx rendered scikit-learn.org. See: https://github.com/scikit-learn/scikit-learn/issues/21755 */display: inline-block !important;position: relative;}#sk-container-id-7 div.sk-text-repr-fallback {display: none;}</style><div id=\"sk-container-id-7\" class=\"sk-top-container\"><div class=\"sk-text-repr-fallback\"><pre>LinearRegression()</pre><b>In a Jupyter environment, please rerun this cell to show the HTML representation or trust the notebook. <br />On GitHub, the HTML representation is unable to render, please try loading this page with nbviewer.org.</b></div><div class=\"sk-container\" hidden><div class=\"sk-item\"><div class=\"sk-estimator sk-toggleable\"><input class=\"sk-toggleable__control sk-hidden--visually\" id=\"sk-estimator-id-7\" type=\"checkbox\" checked><label for=\"sk-estimator-id-7\" class=\"sk-toggleable__label sk-toggleable__label-arrow\">LinearRegression</label><div class=\"sk-toggleable__content\"><pre>LinearRegression()</pre></div></div></div></div></div>"
      ],
      "text/plain": [
       "LinearRegression()"
      ]
     },
     "execution_count": 345,
     "metadata": {},
     "output_type": "execute_result"
    }
   ],
   "source": [
    "# Initisalise and train linear regression model\n",
    "from sklearn.linear_model import LinearRegression\n",
    "\n",
    "linear_reg = LinearRegression()\n",
    "linear_reg.fit(X_train, y_train)\n"
   ]
  },
  {
   "cell_type": "code",
   "execution_count": 346,
   "metadata": {},
   "outputs": [
    {
     "name": "stdout",
     "output_type": "stream",
     "text": [
      "Model1 r2_score: 0.8553805187466126\n",
      "Model1 mse: 2137716.19296338\n"
     ]
    }
   ],
   "source": [
    "# Check metrics\n",
    "from sklearn.metrics import mean_squared_error, r2_score\n",
    "\n",
    "y_pred = linear_reg.predict(X_test)\n",
    "linear_reg_r2 = r2_score(y_test, y_pred)\n",
    "linear_reg_mse = mean_squared_error(y_test, y_pred)\n",
    "\n",
    "print(f'Model1 r2_score: {linear_reg_r2}')\n",
    "print(f'Model1 mse: {linear_reg_mse}')\n"
   ]
  },
  {
   "cell_type": "markdown",
   "metadata": {},
   "source": [
    "## Model 2: Random Forrest Regressor"
   ]
  },
  {
   "cell_type": "code",
   "execution_count": 290,
   "metadata": {},
   "outputs": [
    {
     "data": {
      "text/html": [
       "<style>#sk-container-id-5 {color: black;background-color: white;}#sk-container-id-5 pre{padding: 0;}#sk-container-id-5 div.sk-toggleable {background-color: white;}#sk-container-id-5 label.sk-toggleable__label {cursor: pointer;display: block;width: 100%;margin-bottom: 0;padding: 0.3em;box-sizing: border-box;text-align: center;}#sk-container-id-5 label.sk-toggleable__label-arrow:before {content: \"▸\";float: left;margin-right: 0.25em;color: #696969;}#sk-container-id-5 label.sk-toggleable__label-arrow:hover:before {color: black;}#sk-container-id-5 div.sk-estimator:hover label.sk-toggleable__label-arrow:before {color: black;}#sk-container-id-5 div.sk-toggleable__content {max-height: 0;max-width: 0;overflow: hidden;text-align: left;background-color: #f0f8ff;}#sk-container-id-5 div.sk-toggleable__content pre {margin: 0.2em;color: black;border-radius: 0.25em;background-color: #f0f8ff;}#sk-container-id-5 input.sk-toggleable__control:checked~div.sk-toggleable__content {max-height: 200px;max-width: 100%;overflow: auto;}#sk-container-id-5 input.sk-toggleable__control:checked~label.sk-toggleable__label-arrow:before {content: \"▾\";}#sk-container-id-5 div.sk-estimator input.sk-toggleable__control:checked~label.sk-toggleable__label {background-color: #d4ebff;}#sk-container-id-5 div.sk-label input.sk-toggleable__control:checked~label.sk-toggleable__label {background-color: #d4ebff;}#sk-container-id-5 input.sk-hidden--visually {border: 0;clip: rect(1px 1px 1px 1px);clip: rect(1px, 1px, 1px, 1px);height: 1px;margin: -1px;overflow: hidden;padding: 0;position: absolute;width: 1px;}#sk-container-id-5 div.sk-estimator {font-family: monospace;background-color: #f0f8ff;border: 1px dotted black;border-radius: 0.25em;box-sizing: border-box;margin-bottom: 0.5em;}#sk-container-id-5 div.sk-estimator:hover {background-color: #d4ebff;}#sk-container-id-5 div.sk-parallel-item::after {content: \"\";width: 100%;border-bottom: 1px solid gray;flex-grow: 1;}#sk-container-id-5 div.sk-label:hover label.sk-toggleable__label {background-color: #d4ebff;}#sk-container-id-5 div.sk-serial::before {content: \"\";position: absolute;border-left: 1px solid gray;box-sizing: border-box;top: 0;bottom: 0;left: 50%;z-index: 0;}#sk-container-id-5 div.sk-serial {display: flex;flex-direction: column;align-items: center;background-color: white;padding-right: 0.2em;padding-left: 0.2em;position: relative;}#sk-container-id-5 div.sk-item {position: relative;z-index: 1;}#sk-container-id-5 div.sk-parallel {display: flex;align-items: stretch;justify-content: center;background-color: white;position: relative;}#sk-container-id-5 div.sk-item::before, #sk-container-id-5 div.sk-parallel-item::before {content: \"\";position: absolute;border-left: 1px solid gray;box-sizing: border-box;top: 0;bottom: 0;left: 50%;z-index: -1;}#sk-container-id-5 div.sk-parallel-item {display: flex;flex-direction: column;z-index: 1;position: relative;background-color: white;}#sk-container-id-5 div.sk-parallel-item:first-child::after {align-self: flex-end;width: 50%;}#sk-container-id-5 div.sk-parallel-item:last-child::after {align-self: flex-start;width: 50%;}#sk-container-id-5 div.sk-parallel-item:only-child::after {width: 0;}#sk-container-id-5 div.sk-dashed-wrapped {border: 1px dashed gray;margin: 0 0.4em 0.5em 0.4em;box-sizing: border-box;padding-bottom: 0.4em;background-color: white;}#sk-container-id-5 div.sk-label label {font-family: monospace;font-weight: bold;display: inline-block;line-height: 1.2em;}#sk-container-id-5 div.sk-label-container {text-align: center;}#sk-container-id-5 div.sk-container {/* jupyter's `normalize.less` sets `[hidden] { display: none; }` but bootstrap.min.css set `[hidden] { display: none !important; }` so we also need the `!important` here to be able to override the default hidden behavior on the sphinx rendered scikit-learn.org. See: https://github.com/scikit-learn/scikit-learn/issues/21755 */display: inline-block !important;position: relative;}#sk-container-id-5 div.sk-text-repr-fallback {display: none;}</style><div id=\"sk-container-id-5\" class=\"sk-top-container\"><div class=\"sk-text-repr-fallback\"><pre>RandomForestRegressor()</pre><b>In a Jupyter environment, please rerun this cell to show the HTML representation or trust the notebook. <br />On GitHub, the HTML representation is unable to render, please try loading this page with nbviewer.org.</b></div><div class=\"sk-container\" hidden><div class=\"sk-item\"><div class=\"sk-estimator sk-toggleable\"><input class=\"sk-toggleable__control sk-hidden--visually\" id=\"sk-estimator-id-5\" type=\"checkbox\" checked><label for=\"sk-estimator-id-5\" class=\"sk-toggleable__label sk-toggleable__label-arrow\">RandomForestRegressor</label><div class=\"sk-toggleable__content\"><pre>RandomForestRegressor()</pre></div></div></div></div></div>"
      ],
      "text/plain": [
       "RandomForestRegressor()"
      ]
     },
     "execution_count": 290,
     "metadata": {},
     "output_type": "execute_result"
    }
   ],
   "source": [
    "from sklearn.ensemble import RandomForestRegressor\n",
    "\n",
    "random_forest = RandomForestRegressor()\n",
    "random_forest.fit(X_train, y_train)"
   ]
  },
  {
   "cell_type": "code",
   "execution_count": 292,
   "metadata": {},
   "outputs": [
    {
     "name": "stdout",
     "output_type": "stream",
     "text": [
      "Model2 r2_score: 0.86\n",
      "Model2 mse: 2109035.69\n"
     ]
    }
   ],
   "source": [
    "y_pred = random_forest.predict(X_test)\n",
    "random_forest_r2 = r2_score(y_test, y_pred)\n",
    "random_forest_mse = mean_squared_error(y_test, y_pred)\n",
    "\n",
    "print(f'Model2 r2_score: {random_forest_r2}')\n",
    "print(f'Model2 mse: {random_forest_mse}')"
   ]
  },
  {
   "cell_type": "markdown",
   "metadata": {},
   "source": [
    "## Model 3: XBoost Regressor"
   ]
  },
  {
   "cell_type": "code",
   "execution_count": 294,
   "metadata": {},
   "outputs": [
    {
     "name": "stdout",
     "output_type": "stream",
     "text": [
      "XGBoost r2 Score: 0.88\n",
      "XGBoost mse: 1720184.58\n"
     ]
    }
   ],
   "source": [
    "import xgboost as xgb\n",
    "\n",
    "xgboost = xgb.XGBRegressor(\n",
    "    objective='reg:squarederror',  # Define the objective function for regression\n",
    "    n_estimators=100,              # Number of trees\n",
    "    learning_rate=0.1,             # Step size shrinkage\n",
    "    max_depth=5,                   # Maximum depth of a tree\n",
    "    subsample=0.8,                 # Subsample ratio of the training instances\n",
    "    colsample_bytree=0.8,          # Subsample ratio of columns when constructing each tree\n",
    "    random_state=42                # For reproducibility\n",
    ")\n",
    "\n",
    "xgboost.fit(X_train, y_train)\n",
    "\n",
    "# Predict on the test data\n",
    "y_pred = xgboost.predict(X_test)\n",
    "\n",
    "# Calculate Mean Squared Error (MSE)\n",
    "xboost_r2 = r2_score(y_test, y_pred)\n",
    "xboost_mse = mean_squared_error(y_test, y_pred)\n",
    "\n",
    "print(f\"XGBoost r2 Score: {xboost_r2}\")\n",
    "print(f\"XGBoost mse: {xboost_mse}\")"
   ]
  },
  {
   "cell_type": "markdown",
   "metadata": {},
   "source": [
    "## Improving Dataset: Removing outliers\n"
   ]
  },
  {
   "cell_type": "code",
   "execution_count": 351,
   "metadata": {},
   "outputs": [
    {
     "name": "stdout",
     "output_type": "stream",
     "text": [
      "nb_customers_on_day    10.395741\n",
      "open                    2.211057\n",
      "promotion               1.272689\n",
      "state_holiday          10.373080\n",
      "school_holiday          2.145488\n",
      "sales                   9.288605\n",
      "day_of_week_1           2.458545\n",
      "day_of_week_2           2.447347\n",
      "day_of_week_3           2.447892\n",
      "day_of_week_4           2.442903\n",
      "day_of_week_5           2.440332\n",
      "day_of_week_6           2.452641\n",
      "day_of_week_7           2.456908\n",
      "year                    1.502119\n",
      "month                   1.849993\n",
      "day                     1.739052\n",
      "dtype: float64\n"
     ]
    }
   ],
   "source": [
    "from scipy import stats\n",
    "\n",
    "# calculate zscore and filter dataset\n",
    "def calculate_zscores_max(data):\n",
    "    data = data.astype({col: 'int' for col in data.select_dtypes('bool').columns})\n",
    "    z_scores = np.abs(stats.zscore(data))\n",
    "    print(z_scores.max())\n",
    "\n",
    "calculate_zscores_max(sales)\n"
   ]
  },
  {
   "cell_type": "code",
   "execution_count": 353,
   "metadata": {},
   "outputs": [
    {
     "name": "stdout",
     "output_type": "stream",
     "text": [
      "nb_customers_on_day     2.707178\n",
      "open                    2.168144\n",
      "promotion               1.286562\n",
      "state_holiday          10.254553\n",
      "school_holiday          2.152853\n",
      "sales                   8.018080\n",
      "day_of_week_1           2.484978\n",
      "day_of_week_2           2.454873\n",
      "day_of_week_3           2.446640\n",
      "day_of_week_4           2.443382\n",
      "day_of_week_5           2.442933\n",
      "day_of_week_6           2.449586\n",
      "day_of_week_7           2.425010\n",
      "year                    1.499505\n",
      "month                   1.857814\n",
      "day                     1.740099\n",
      "dtype: float64\n",
      "None\n"
     ]
    },
    {
     "data": {
      "image/png": "[encoded data removed]",
      "text/plain": [
       "<Figure size 1200x800 with 1 Axes>"
      ]
     },
     "metadata": {},
     "output_type": "display_data"
    },
    {
     "name": "stdout",
     "output_type": "stream",
     "text": [
      "(640840, 16)\n",
      "(620389, 16)\n"
     ]
    }
   ],
   "source": [
    "# Let's remove outlisers on nb_customers_on_day only\n",
    "z_scores_customers = np.abs(stats.zscore(sales['nb_customers_on_day']))\n",
    "\n",
    "sales_no_outliers = sales[z_scores_customers < 2]\n",
    "\n",
    "print(calculate_zscores_max(sales_no_outliers))\n",
    "plot_boxplot(sales_no_outliers)\n",
    "\n",
    "print(sales.shape)\n",
    "print(sales_no_outliers.shape)\n"
   ]
  },
  {
   "cell_type": "code",
   "execution_count": 356,
   "metadata": {},
   "outputs": [
    {
     "name": "stdout",
     "output_type": "stream",
     "text": [
      "(620389, 15) (620389,)\n"
     ]
    },
    {
     "data": {
      "text/html": [
       "<div>\n",
       "<style scoped>\n",
       "    .dataframe tbody tr th:only-of-type {\n",
       "        vertical-align: middle;\n",
       "    }\n",
       "\n",
       "    .dataframe tbody tr th {\n",
       "        vertical-align: top;\n",
       "    }\n",
       "\n",
       "    .dataframe thead th {\n",
       "        text-align: right;\n",
       "    }\n",
       "</style>\n",
       "<table border=\"1\" class=\"dataframe\">\n",
       "  <thead>\n",
       "    <tr style=\"text-align: right;\">\n",
       "      <th></th>\n",
       "      <th>nb_customers_on_day</th>\n",
       "      <th>open</th>\n",
       "      <th>promotion</th>\n",
       "      <th>state_holiday</th>\n",
       "      <th>school_holiday</th>\n",
       "      <th>year</th>\n",
       "      <th>month</th>\n",
       "      <th>day</th>\n",
       "    </tr>\n",
       "  </thead>\n",
       "  <tbody>\n",
       "    <tr>\n",
       "      <th>count</th>\n",
       "      <td>6.203890e+05</td>\n",
       "      <td>620389.000000</td>\n",
       "      <td>6.203890e+05</td>\n",
       "      <td>620389.000000</td>\n",
       "      <td>620389.000000</td>\n",
       "      <td>6.203890e+05</td>\n",
       "      <td>6.203890e+05</td>\n",
       "      <td>6.203890e+05</td>\n",
       "    </tr>\n",
       "    <tr>\n",
       "      <th>mean</th>\n",
       "      <td>1.186464e-16</td>\n",
       "      <td>0.824587</td>\n",
       "      <td>-4.963809e-17</td>\n",
       "      <td>0.046519</td>\n",
       "      <td>0.177469</td>\n",
       "      <td>-8.538809e-14</td>\n",
       "      <td>-2.638813e-17</td>\n",
       "      <td>-9.655031e-18</td>\n",
       "    </tr>\n",
       "    <tr>\n",
       "      <th>std</th>\n",
       "      <td>1.000001e+00</td>\n",
       "      <td>0.380320</td>\n",
       "      <td>1.000001e+00</td>\n",
       "      <td>0.288017</td>\n",
       "      <td>0.382066</td>\n",
       "      <td>1.000001e+00</td>\n",
       "      <td>1.000001e+00</td>\n",
       "      <td>1.000001e+00</td>\n",
       "    </tr>\n",
       "    <tr>\n",
       "      <th>min</th>\n",
       "      <td>-1.613438e+00</td>\n",
       "      <td>0.000000</td>\n",
       "      <td>-7.772656e-01</td>\n",
       "      <td>0.000000</td>\n",
       "      <td>0.000000</td>\n",
       "      <td>-1.071378e+00</td>\n",
       "      <td>-1.454768e+00</td>\n",
       "      <td>-1.676226e+00</td>\n",
       "    </tr>\n",
       "    <tr>\n",
       "      <th>25%</th>\n",
       "      <td>-5.201370e-01</td>\n",
       "      <td>1.000000</td>\n",
       "      <td>-7.772656e-01</td>\n",
       "      <td>0.000000</td>\n",
       "      <td>0.000000</td>\n",
       "      <td>-1.071378e+00</td>\n",
       "      <td>-8.524802e-01</td>\n",
       "      <td>-8.790833e-01</td>\n",
       "    </tr>\n",
       "    <tr>\n",
       "      <th>50%</th>\n",
       "      <td>4.173688e-02</td>\n",
       "      <td>1.000000</td>\n",
       "      <td>-7.772656e-01</td>\n",
       "      <td>0.000000</td>\n",
       "      <td>0.000000</td>\n",
       "      <td>2.140638e-01</td>\n",
       "      <td>5.095119e-02</td>\n",
       "      <td>3.193656e-02</td>\n",
       "    </tr>\n",
       "    <tr>\n",
       "      <th>75%</th>\n",
       "      <td>6.285214e-01</td>\n",
       "      <td>1.000000</td>\n",
       "      <td>1.286562e+00</td>\n",
       "      <td>0.000000</td>\n",
       "      <td>0.000000</td>\n",
       "      <td>2.140638e-01</td>\n",
       "      <td>6.532388e-01</td>\n",
       "      <td>8.290789e-01</td>\n",
       "    </tr>\n",
       "    <tr>\n",
       "      <th>max</th>\n",
       "      <td>2.707178e+00</td>\n",
       "      <td>1.000000</td>\n",
       "      <td>1.286562e+00</td>\n",
       "      <td>3.000000</td>\n",
       "      <td>1.000000</td>\n",
       "      <td>1.499505e+00</td>\n",
       "      <td>1.857814e+00</td>\n",
       "      <td>1.740099e+00</td>\n",
       "    </tr>\n",
       "  </tbody>\n",
       "</table>\n",
       "</div>"
      ],
      "text/plain": [
       "       nb_customers_on_day           open     promotion  state_holiday  \\\n",
       "count         6.203890e+05  620389.000000  6.203890e+05  620389.000000   \n",
       "mean          1.186464e-16       0.824587 -4.963809e-17       0.046519   \n",
       "std           1.000001e+00       0.380320  1.000001e+00       0.288017   \n",
       "min          -1.613438e+00       0.000000 -7.772656e-01       0.000000   \n",
       "25%          -5.201370e-01       1.000000 -7.772656e-01       0.000000   \n",
       "50%           4.173688e-02       1.000000 -7.772656e-01       0.000000   \n",
       "75%           6.285214e-01       1.000000  1.286562e+00       0.000000   \n",
       "max           2.707178e+00       1.000000  1.286562e+00       3.000000   \n",
       "\n",
       "       school_holiday          year         month           day  \n",
       "count   620389.000000  6.203890e+05  6.203890e+05  6.203890e+05  \n",
       "mean         0.177469 -8.538809e-14 -2.638813e-17 -9.655031e-18  \n",
       "std          0.382066  1.000001e+00  1.000001e+00  1.000001e+00  \n",
       "min          0.000000 -1.071378e+00 -1.454768e+00 -1.676226e+00  \n",
       "25%          0.000000 -1.071378e+00 -8.524802e-01 -8.790833e-01  \n",
       "50%          0.000000  2.140638e-01  5.095119e-02  3.193656e-02  \n",
       "75%          0.000000  2.140638e-01  6.532388e-01  8.290789e-01  \n",
       "max          1.000000  1.499505e+00  1.857814e+00  1.740099e+00  "
      ]
     },
     "execution_count": 356,
     "metadata": {},
     "output_type": "execute_result"
    }
   ],
   "source": [
    "# split X and y and apply standard scaler to X\n",
    "y = sales_no_outliers['sales']\n",
    "X = sales_no_outliers.drop('sales', axis=1)\n",
    "\n",
    "print(X.shape, y.shape)\n",
    "\n",
    "X_stand = apply_standard_scaler(X)\n",
    "X_stand.describe()\n"
   ]
  },
  {
   "cell_type": "code",
   "execution_count": 359,
   "metadata": {},
   "outputs": [
    {
     "name": "stdout",
     "output_type": "stream",
     "text": [
      "LinearRegression\n",
      "Model1 r2_score: 0.8612669078358142\n",
      "Model1 mse: 1641005.7573645476\n",
      "\n",
      "RandomForestRegressor\n",
      "Model2 r2_score: 0.8484842268795821\n",
      "Model2 mse: 1792205.8259026723\n",
      "\n",
      "XGBoost\n",
      "XGBoost r2 Score: 0.8795776242507549\n",
      "XGBoost mse: 1424417.2665463185\n"
     ]
    }
   ],
   "source": [
    "# Rerun models\n",
    "X_train, X_test, y_train, y_test = train_test_split(X_stand, y, test_size=0.2, random_state=42)\n",
    "\n",
    "# LinearRegression\n",
    "print(\"LinearRegression\")\n",
    "linear_reg = LinearRegression()\n",
    "linear_reg.fit(X_train, y_train)\n",
    "y_pred = linear_reg.predict(X_test)\n",
    "linear_reg_r2 = r2_score(y_test, y_pred)\n",
    "linear_reg_mse = mean_squared_error(y_test, y_pred)\n",
    "print(f'Model1 r2_score: {linear_reg_r2}')\n",
    "print(f'Model1 mse: {linear_reg_mse}')\n",
    "print()\n",
    "\n",
    "# RandomForrest\n",
    "print(\"RandomForestRegressor\")\n",
    "random_forest = RandomForestRegressor()\n",
    "random_forest.fit(X_train, y_train)\n",
    "y_pred = random_forest.predict(X_test)\n",
    "random_forest_r2 = r2_score(y_test, y_pred)\n",
    "random_forest_mse = mean_squared_error(y_test, y_pred)\n",
    "print(f'Model2 r2_score: {random_forest_r2}')\n",
    "print(f'Model2 mse: {random_forest_mse}')\n",
    "print()\n",
    "\n",
    "# XBoost\n",
    "print('XGBoost')\n",
    "xgboost = xgb.XGBRegressor(\n",
    "    objective='reg:squarederror',  # Define the objective function for regression\n",
    "    n_estimators=100,              # Number of trees\n",
    "    learning_rate=0.1,             # Step size shrinkage\n",
    "    max_depth=5,                   # Maximum depth of a tree\n",
    "    subsample=0.8,                 # Subsample ratio of the training instances\n",
    "    colsample_bytree=0.8,          # Subsample ratio of columns when constructing each tree\n",
    "    random_state=42                # For reproducibility\n",
    ")\n",
    "xgboost.fit(X_train, y_train)\n",
    "y_pred = xgboost.predict(X_test)\n",
    "xboost_r2 = r2_score(y_test, y_pred)\n",
    "xboost_mse = mean_squared_error(y_test, y_pred)\n",
    "print(f\"XGBoost r2 Score: {xboost_r2}\")\n",
    "print(f\"XGBoost mse: {xboost_mse}\")"
   ]
  }
 ],
 "metadata": {
  "kernelspec": {
   "display_name": "base",
   "language": "python",
   "name": "python3"
  },
  "language_info": {
   "codemirror_mode": {
    "name": "ipython",
    "version": 3
   },
   "file_extension": ".py",
   "mimetype": "text/x-python",
   "name": "python",
   "nbconvert_exporter": "python",
   "pygments_lexer": "ipython3",
   "version": "3.12.3"
  }
 },
 "nbformat": 4,
 "nbformat_minor": 2
}
