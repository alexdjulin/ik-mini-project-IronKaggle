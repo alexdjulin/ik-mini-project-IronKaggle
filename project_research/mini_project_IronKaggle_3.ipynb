{
 "cells": [
  {
   "cell_type": "markdown",
   "metadata": {},
   "source": [
    "# Mini Project - IronKaggle"
   ]
  },
  {
   "cell_type": "markdown",
   "metadata": {},
   "source": [
    "## Imports"
   ]
  },
  {
   "cell_type": "code",
   "execution_count": 92,
   "metadata": {},
   "outputs": [],
   "source": [
    "import numpy as np\n",
    "import pandas as pd\n",
    "import seaborn as sns\n",
    "import plotly.express as px\n",
    "import plotly.graph_objects as go\n",
    "import matplotlib.pyplot as plt\n"
   ]
  },
  {
   "cell_type": "markdown",
   "metadata": {},
   "source": [
    "## Explore dataset"
   ]
  },
  {
   "cell_type": "code",
   "execution_count": 93,
   "metadata": {},
   "outputs": [
    {
     "name": "stdout",
     "output_type": "stream",
     "text": [
      "<class 'pandas.core.frame.DataFrame'>\n",
      "RangeIndex: 640840 entries, 0 to 640839\n",
      "Data columns (total 10 columns):\n",
      " #   Column               Non-Null Count   Dtype \n",
      "---  ------               --------------   ----- \n",
      " 0   Unnamed: 0           640840 non-null  int64 \n",
      " 1   store_ID             640840 non-null  int64 \n",
      " 2   day_of_week          640840 non-null  int64 \n",
      " 3   date                 640840 non-null  object\n",
      " 4   nb_customers_on_day  640840 non-null  int64 \n",
      " 5   open                 640840 non-null  int64 \n",
      " 6   promotion            640840 non-null  int64 \n",
      " 7   state_holiday        640840 non-null  object\n",
      " 8   school_holiday       640840 non-null  int64 \n",
      " 9   sales                640840 non-null  int64 \n",
      "dtypes: int64(8), object(2)\n",
      "memory usage: 48.9+ MB\n",
      "None\n"
     ]
    },
    {
     "data": {
      "text/html": [
       "<div>\n",
       "<style scoped>\n",
       "    .dataframe tbody tr th:only-of-type {\n",
       "        vertical-align: middle;\n",
       "    }\n",
       "\n",
       "    .dataframe tbody tr th {\n",
       "        vertical-align: top;\n",
       "    }\n",
       "\n",
       "    .dataframe thead th {\n",
       "        text-align: right;\n",
       "    }\n",
       "</style>\n",
       "<table border=\"1\" class=\"dataframe\">\n",
       "  <thead>\n",
       "    <tr style=\"text-align: right;\">\n",
       "      <th></th>\n",
       "      <th>Unnamed: 0</th>\n",
       "      <th>store_ID</th>\n",
       "      <th>day_of_week</th>\n",
       "      <th>date</th>\n",
       "      <th>nb_customers_on_day</th>\n",
       "      <th>open</th>\n",
       "      <th>promotion</th>\n",
       "      <th>state_holiday</th>\n",
       "      <th>school_holiday</th>\n",
       "      <th>sales</th>\n",
       "    </tr>\n",
       "  </thead>\n",
       "  <tbody>\n",
       "    <tr>\n",
       "      <th>0</th>\n",
       "      <td>425390</td>\n",
       "      <td>366</td>\n",
       "      <td>4</td>\n",
       "      <td>2013-04-18</td>\n",
       "      <td>517</td>\n",
       "      <td>1</td>\n",
       "      <td>0</td>\n",
       "      <td>0</td>\n",
       "      <td>0</td>\n",
       "      <td>4422</td>\n",
       "    </tr>\n",
       "    <tr>\n",
       "      <th>1</th>\n",
       "      <td>291687</td>\n",
       "      <td>394</td>\n",
       "      <td>6</td>\n",
       "      <td>2015-04-11</td>\n",
       "      <td>694</td>\n",
       "      <td>1</td>\n",
       "      <td>0</td>\n",
       "      <td>0</td>\n",
       "      <td>0</td>\n",
       "      <td>8297</td>\n",
       "    </tr>\n",
       "    <tr>\n",
       "      <th>2</th>\n",
       "      <td>411278</td>\n",
       "      <td>807</td>\n",
       "      <td>4</td>\n",
       "      <td>2013-08-29</td>\n",
       "      <td>970</td>\n",
       "      <td>1</td>\n",
       "      <td>1</td>\n",
       "      <td>0</td>\n",
       "      <td>0</td>\n",
       "      <td>9729</td>\n",
       "    </tr>\n",
       "    <tr>\n",
       "      <th>3</th>\n",
       "      <td>664714</td>\n",
       "      <td>802</td>\n",
       "      <td>2</td>\n",
       "      <td>2013-05-28</td>\n",
       "      <td>473</td>\n",
       "      <td>1</td>\n",
       "      <td>1</td>\n",
       "      <td>0</td>\n",
       "      <td>0</td>\n",
       "      <td>6513</td>\n",
       "    </tr>\n",
       "    <tr>\n",
       "      <th>4</th>\n",
       "      <td>540835</td>\n",
       "      <td>726</td>\n",
       "      <td>4</td>\n",
       "      <td>2013-10-10</td>\n",
       "      <td>1068</td>\n",
       "      <td>1</td>\n",
       "      <td>1</td>\n",
       "      <td>0</td>\n",
       "      <td>0</td>\n",
       "      <td>10882</td>\n",
       "    </tr>\n",
       "  </tbody>\n",
       "</table>\n",
       "</div>"
      ],
      "text/plain": [
       "   Unnamed: 0  store_ID  day_of_week        date  nb_customers_on_day  open  \\\n",
       "0      425390       366            4  2013-04-18                  517     1   \n",
       "1      291687       394            6  2015-04-11                  694     1   \n",
       "2      411278       807            4  2013-08-29                  970     1   \n",
       "3      664714       802            2  2013-05-28                  473     1   \n",
       "4      540835       726            4  2013-10-10                 1068     1   \n",
       "\n",
       "   promotion state_holiday  school_holiday  sales  \n",
       "0          0             0               0   4422  \n",
       "1          0             0               0   8297  \n",
       "2          1             0               0   9729  \n",
       "3          1             0               0   6513  \n",
       "4          1             0               0  10882  "
      ]
     },
     "execution_count": 93,
     "metadata": {},
     "output_type": "execute_result"
    }
   ],
   "source": [
    "# load dataset\n",
    "sales = pd.read_csv('sales.csv')\n",
    "print(sales.info())\n",
    "sales.head()"
   ]
  },
  {
   "cell_type": "code",
   "execution_count": 94,
   "metadata": {},
   "outputs": [
    {
     "name": "stdout",
     "output_type": "stream",
     "text": [
      "<class 'pandas.core.frame.DataFrame'>\n",
      "RangeIndex: 640840 entries, 0 to 640839\n",
      "Data columns (total 8 columns):\n",
      " #   Column               Non-Null Count   Dtype \n",
      "---  ------               --------------   ----- \n",
      " 0   day_of_week          640840 non-null  int64 \n",
      " 1   date                 640840 non-null  object\n",
      " 2   nb_customers_on_day  640840 non-null  int64 \n",
      " 3   open                 640840 non-null  int64 \n",
      " 4   promotion            640840 non-null  int64 \n",
      " 5   state_holiday        640840 non-null  object\n",
      " 6   school_holiday       640840 non-null  int64 \n",
      " 7   sales                640840 non-null  int64 \n",
      "dtypes: int64(6), object(2)\n",
      "memory usage: 39.1+ MB\n"
     ]
    }
   ],
   "source": [
    "# Let's drop the unnamed column and the store id\n",
    "sales.drop(columns=['Unnamed: 0', 'store_ID'], inplace=True)\n",
    "sales.info()"
   ]
  },
  {
   "cell_type": "code",
   "execution_count": 95,
   "metadata": {},
   "outputs": [
    {
     "data": {
      "text/plain": [
       "day_of_week            0\n",
       "date                   0\n",
       "nb_customers_on_day    0\n",
       "open                   0\n",
       "promotion              0\n",
       "state_holiday          0\n",
       "school_holiday         0\n",
       "sales                  0\n",
       "dtype: int64"
      ]
     },
     "execution_count": 95,
     "metadata": {},
     "output_type": "execute_result"
    }
   ],
   "source": [
    "# check for missing value\n",
    "sales.isna().sum()"
   ]
  },
  {
   "cell_type": "code",
   "execution_count": 96,
   "metadata": {},
   "outputs": [
    {
     "name": "stdout",
     "output_type": "stream",
     "text": [
      "<class 'pandas.core.frame.DataFrame'>\n",
      "RangeIndex: 640840 entries, 0 to 640839\n",
      "Data columns (total 10 columns):\n",
      " #   Column               Non-Null Count   Dtype \n",
      "---  ------               --------------   ----- \n",
      " 0   day_of_week          640840 non-null  int64 \n",
      " 1   date                 640840 non-null  object\n",
      " 2   nb_customers_on_day  640840 non-null  int64 \n",
      " 3   open                 640840 non-null  int64 \n",
      " 4   promotion            640840 non-null  int64 \n",
      " 5   school_holiday       640840 non-null  int64 \n",
      " 6   sales                640840 non-null  int64 \n",
      " 7   state_holiday_a      640840 non-null  bool  \n",
      " 8   state_holiday_b      640840 non-null  bool  \n",
      " 9   state_holiday_c      640840 non-null  bool  \n",
      "dtypes: bool(3), int64(6), object(1)\n",
      "memory usage: 36.1+ MB\n",
      "None\n"
     ]
    }
   ],
   "source": [
    "# let's convert state holiday to integer values\n",
    "sales = pd.get_dummies(sales, columns=['state_holiday'], drop_first=True)\n",
    "\n",
    "print(sales.info())"
   ]
  },
  {
   "cell_type": "code",
   "execution_count": 97,
   "metadata": {},
   "outputs": [
    {
     "name": "stdout",
     "output_type": "stream",
     "text": [
      "<class 'pandas.core.frame.DataFrame'>\n",
      "RangeIndex: 640840 entries, 0 to 640839\n",
      "Data columns (total 12 columns):\n",
      " #   Column               Non-Null Count   Dtype\n",
      "---  ------               --------------   -----\n",
      " 0   day_of_week          640840 non-null  int64\n",
      " 1   nb_customers_on_day  640840 non-null  int64\n",
      " 2   open                 640840 non-null  int64\n",
      " 3   promotion            640840 non-null  int64\n",
      " 4   school_holiday       640840 non-null  int64\n",
      " 5   sales                640840 non-null  int64\n",
      " 6   state_holiday_a      640840 non-null  bool \n",
      " 7   state_holiday_b      640840 non-null  bool \n",
      " 8   state_holiday_c      640840 non-null  bool \n",
      " 9   year                 640840 non-null  int32\n",
      " 10  month                640840 non-null  int32\n",
      " 11  day                  640840 non-null  int32\n",
      "dtypes: bool(3), int32(3), int64(6)\n",
      "memory usage: 38.5 MB\n"
     ]
    }
   ],
   "source": [
    "# Now lets split dates into three columns\n",
    "sales['date'] = pd.to_datetime(sales['date'], errors='coerce')\n",
    "sales['year'] = sales['date'].dt.year\n",
    "sales['month'] = sales['date'].dt.month\n",
    "sales['day'] = sales['date'].dt.day\n",
    "sales.drop('date', axis=1, inplace=True)  # drop date column\n",
    "sales.info()"
   ]
  },
  {
   "cell_type": "code",
   "execution_count": 98,
   "metadata": {},
   "outputs": [
    {
     "name": "stdout",
     "output_type": "stream",
     "text": [
      "<class 'pandas.core.frame.DataFrame'>\n",
      "RangeIndex: 640840 entries, 0 to 640839\n",
      "Data columns (total 12 columns):\n",
      " #   Column               Non-Null Count   Dtype\n",
      "---  ------               --------------   -----\n",
      " 0   day_of_week          640840 non-null  int64\n",
      " 1   nb_customers_on_day  640840 non-null  int64\n",
      " 2   open                 640840 non-null  int64\n",
      " 3   promotion            640840 non-null  int64\n",
      " 4   school_holiday       640840 non-null  int64\n",
      " 5   sales                640840 non-null  int64\n",
      " 6   state_holiday_a      640840 non-null  int32\n",
      " 7   state_holiday_b      640840 non-null  int32\n",
      " 8   state_holiday_c      640840 non-null  int32\n",
      " 9   year                 640840 non-null  int32\n",
      " 10  month                640840 non-null  int32\n",
      " 11  day                  640840 non-null  int32\n",
      "dtypes: int32(6), int64(6)\n",
      "memory usage: 44.0 MB\n",
      "None\n"
     ]
    },
    {
     "data": {
      "text/html": [
       "<div>\n",
       "<style scoped>\n",
       "    .dataframe tbody tr th:only-of-type {\n",
       "        vertical-align: middle;\n",
       "    }\n",
       "\n",
       "    .dataframe tbody tr th {\n",
       "        vertical-align: top;\n",
       "    }\n",
       "\n",
       "    .dataframe thead th {\n",
       "        text-align: right;\n",
       "    }\n",
       "</style>\n",
       "<table border=\"1\" class=\"dataframe\">\n",
       "  <thead>\n",
       "    <tr style=\"text-align: right;\">\n",
       "      <th></th>\n",
       "      <th>day_of_week</th>\n",
       "      <th>nb_customers_on_day</th>\n",
       "      <th>open</th>\n",
       "      <th>promotion</th>\n",
       "      <th>school_holiday</th>\n",
       "      <th>sales</th>\n",
       "      <th>state_holiday_a</th>\n",
       "      <th>state_holiday_b</th>\n",
       "      <th>state_holiday_c</th>\n",
       "      <th>year</th>\n",
       "      <th>month</th>\n",
       "      <th>day</th>\n",
       "    </tr>\n",
       "  </thead>\n",
       "  <tbody>\n",
       "    <tr>\n",
       "      <th>0</th>\n",
       "      <td>4</td>\n",
       "      <td>517</td>\n",
       "      <td>1</td>\n",
       "      <td>0</td>\n",
       "      <td>0</td>\n",
       "      <td>4422</td>\n",
       "      <td>0</td>\n",
       "      <td>0</td>\n",
       "      <td>0</td>\n",
       "      <td>2013</td>\n",
       "      <td>4</td>\n",
       "      <td>18</td>\n",
       "    </tr>\n",
       "    <tr>\n",
       "      <th>1</th>\n",
       "      <td>6</td>\n",
       "      <td>694</td>\n",
       "      <td>1</td>\n",
       "      <td>0</td>\n",
       "      <td>0</td>\n",
       "      <td>8297</td>\n",
       "      <td>0</td>\n",
       "      <td>0</td>\n",
       "      <td>0</td>\n",
       "      <td>2015</td>\n",
       "      <td>4</td>\n",
       "      <td>11</td>\n",
       "    </tr>\n",
       "    <tr>\n",
       "      <th>2</th>\n",
       "      <td>4</td>\n",
       "      <td>970</td>\n",
       "      <td>1</td>\n",
       "      <td>1</td>\n",
       "      <td>0</td>\n",
       "      <td>9729</td>\n",
       "      <td>0</td>\n",
       "      <td>0</td>\n",
       "      <td>0</td>\n",
       "      <td>2013</td>\n",
       "      <td>8</td>\n",
       "      <td>29</td>\n",
       "    </tr>\n",
       "    <tr>\n",
       "      <th>3</th>\n",
       "      <td>2</td>\n",
       "      <td>473</td>\n",
       "      <td>1</td>\n",
       "      <td>1</td>\n",
       "      <td>0</td>\n",
       "      <td>6513</td>\n",
       "      <td>0</td>\n",
       "      <td>0</td>\n",
       "      <td>0</td>\n",
       "      <td>2013</td>\n",
       "      <td>5</td>\n",
       "      <td>28</td>\n",
       "    </tr>\n",
       "    <tr>\n",
       "      <th>4</th>\n",
       "      <td>4</td>\n",
       "      <td>1068</td>\n",
       "      <td>1</td>\n",
       "      <td>1</td>\n",
       "      <td>0</td>\n",
       "      <td>10882</td>\n",
       "      <td>0</td>\n",
       "      <td>0</td>\n",
       "      <td>0</td>\n",
       "      <td>2013</td>\n",
       "      <td>10</td>\n",
       "      <td>10</td>\n",
       "    </tr>\n",
       "  </tbody>\n",
       "</table>\n",
       "</div>"
      ],
      "text/plain": [
       "   day_of_week  nb_customers_on_day  open  promotion  school_holiday  sales  \\\n",
       "0            4                  517     1          0               0   4422   \n",
       "1            6                  694     1          0               0   8297   \n",
       "2            4                  970     1          1               0   9729   \n",
       "3            2                  473     1          1               0   6513   \n",
       "4            4                 1068     1          1               0  10882   \n",
       "\n",
       "   state_holiday_a  state_holiday_b  state_holiday_c  year  month  day  \n",
       "0                0                0                0  2013      4   18  \n",
       "1                0                0                0  2015      4   11  \n",
       "2                0                0                0  2013      8   29  \n",
       "3                0                0                0  2013      5   28  \n",
       "4                0                0                0  2013     10   10  "
      ]
     },
     "execution_count": 98,
     "metadata": {},
     "output_type": "execute_result"
    }
   ],
   "source": [
    "# Convert bool features to integers\n",
    "sales = sales.astype({col: 'int' for col in sales.select_dtypes(include='bool').columns})\n",
    "print(sales.info())\n",
    "sales.head()"
   ]
  },
  {
   "cell_type": "code",
   "execution_count": 99,
   "metadata": {},
   "outputs": [
    {
     "name": "stdout",
     "output_type": "stream",
     "text": [
      "<class 'pandas.core.frame.DataFrame'>\n",
      "Index: 629897 entries, 0 to 640839\n",
      "Data columns (total 12 columns):\n",
      " #   Column               Non-Null Count   Dtype\n",
      "---  ------               --------------   -----\n",
      " 0   day_of_week          629897 non-null  int64\n",
      " 1   nb_customers_on_day  629897 non-null  int64\n",
      " 2   open                 629897 non-null  int64\n",
      " 3   promotion            629897 non-null  int64\n",
      " 4   school_holiday       629897 non-null  int64\n",
      " 5   sales                629897 non-null  int64\n",
      " 6   state_holiday_a      629897 non-null  int32\n",
      " 7   state_holiday_b      629897 non-null  int32\n",
      " 8   state_holiday_c      629897 non-null  int32\n",
      " 9   year                 629897 non-null  int32\n",
      " 10  month                629897 non-null  int32\n",
      " 11  day                  629897 non-null  int32\n",
      "dtypes: int32(6), int64(6)\n",
      "memory usage: 48.1 MB\n"
     ]
    }
   ],
   "source": [
    "# Drop outliers\n",
    "from scipy import stats\n",
    "\n",
    "# Step 1: Calculate the Z-score for 'sales' and 'nb_customers_on_day'\n",
    "sales_z_scores = stats.zscore(sales['sales'])\n",
    "customers_z_scores = stats.zscore(sales['nb_customers_on_day'])\n",
    "\n",
    "# Step 2: Identify outliers (Z-score > 3 or Z-score < -3)\n",
    "outliers_sales = (abs(sales_z_scores) > 3)\n",
    "outliers_customers = (abs(customers_z_scores) > 3)\n",
    "\n",
    "# Step 3: Remove the outliers from the dataset\n",
    "sales_data_no_z_outliers = sales[~(outliers_sales | outliers_customers)]\n",
    "\n",
    "# Display the size of the dataset after removing outliers\n",
    "sales_data_no_z_outliers.info()"
   ]
  },
  {
   "cell_type": "code",
   "execution_count": 100,
   "metadata": {},
   "outputs": [
    {
     "name": "stdout",
     "output_type": "stream",
     "text": [
      "<class 'pandas.core.frame.DataFrame'>\n",
      "Index: 629897 entries, 0 to 640839\n",
      "Data columns (total 11 columns):\n",
      " #   Column               Non-Null Count   Dtype\n",
      "---  ------               --------------   -----\n",
      " 0   day_of_week          629897 non-null  int64\n",
      " 1   nb_customers_on_day  629897 non-null  int64\n",
      " 2   open                 629897 non-null  int64\n",
      " 3   promotion            629897 non-null  int64\n",
      " 4   school_holiday       629897 non-null  int64\n",
      " 5   state_holiday_a      629897 non-null  int32\n",
      " 6   state_holiday_b      629897 non-null  int32\n",
      " 7   state_holiday_c      629897 non-null  int32\n",
      " 8   year                 629897 non-null  int32\n",
      " 9   month                629897 non-null  int32\n",
      " 10  day                  629897 non-null  int32\n",
      "dtypes: int32(6), int64(5)\n",
      "memory usage: 43.3 MB\n",
      "None\n",
      "\n",
      "<class 'pandas.core.series.Series'>\n",
      "Index: 629897 entries, 0 to 640839\n",
      "Series name: sales\n",
      "Non-Null Count   Dtype\n",
      "--------------   -----\n",
      "629897 non-null  int64\n",
      "dtypes: int64(1)\n",
      "memory usage: 9.6 MB\n",
      "None\n"
     ]
    }
   ],
   "source": [
    "# Lets save our target sales column and remove it from input features\n",
    "y = sales_data_no_z_outliers['sales']\n",
    "X = sales_data_no_z_outliers.drop('sales', axis=1)\n",
    "\n",
    "print(X.info())\n",
    "print()\n",
    "print(y.info())"
   ]
  },
  {
   "cell_type": "markdown",
   "metadata": {},
   "source": [
    "## Split Dataset"
   ]
  },
  {
   "cell_type": "code",
   "execution_count": 101,
   "metadata": {},
   "outputs": [
    {
     "name": "stdout",
     "output_type": "stream",
     "text": [
      "(503917, 11) (125980, 11)\n",
      "(503917,) (125980,)\n"
     ]
    }
   ],
   "source": [
    "# lets split the dataset and create our sets\n",
    "from sklearn.model_selection import train_test_split\n",
    "\n",
    "X_train, X_test, y_train, y_test = train_test_split(X, y, test_size=0.2, random_state=42)\n",
    "print(X_train.shape, X_test.shape)\n",
    "print(y_train.shape, y_test.shape)"
   ]
  },
  {
   "cell_type": "markdown",
   "metadata": {},
   "source": [
    "## Model 2: Random Forrest Regressor"
   ]
  },
  {
   "cell_type": "code",
   "execution_count": 102,
   "metadata": {},
   "outputs": [
    {
     "data": {
      "text/plain": [
       "(1773851.308667267, 0.8567705449002658)"
      ]
     },
     "execution_count": 102,
     "metadata": {},
     "output_type": "execute_result"
    }
   ],
   "source": [
    "# Random Forest\n",
    "\n",
    "from sklearn.ensemble import RandomForestRegressor\n",
    "from sklearn.metrics import mean_squared_error, r2_score\n",
    "\n",
    "# Step 1: Initialize the Random Forest model\n",
    "rf_model = RandomForestRegressor()\n",
    "\n",
    "# Step 2: Train the Random Forest model on the training data\n",
    "rf_model.fit(X_train, y_train)\n",
    "\n",
    "# Step 3: Make predictions on the test set\n",
    "y_pred_rf = rf_model.predict(X_test)\n",
    "\n",
    "# Step 4: Evaluate the model's performance\n",
    "mse_rf = mean_squared_error(y_test, y_pred_rf)\n",
    "r2_rf = r2_score(y_test, y_pred_rf)\n",
    "\n",
    "mse_rf, r2_rf"
   ]
  }
 ],
 "metadata": {
  "kernelspec": {
   "display_name": "base",
   "language": "python",
   "name": "python3"
  },
  "language_info": {
   "codemirror_mode": {
    "name": "ipython",
    "version": 3
   },
   "file_extension": ".py",
   "mimetype": "text/x-python",
   "name": "python",
   "nbconvert_exporter": "python",
   "pygments_lexer": "ipython3",
   "version": "3.12.3"
  }
 },
 "nbformat": 4,
 "nbformat_minor": 2
}
